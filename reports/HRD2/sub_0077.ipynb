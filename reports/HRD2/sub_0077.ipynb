{
 "cells": [
  {
   "cell_type": "markdown",
   "metadata": {
    "tags": [
     "papermill-error-cell-tag"
    ]
   },
   "source": [
    "<span style=\"color:red; font-family:Helvetica Neue, Helvetica, Arial, sans-serif; font-size:2em;\">An Exception was encountered at '<a href=\"#papermill-error-cell\">In [4]</a>'.</span>"
   ]
  },
  {
   "cell_type": "markdown",
   "metadata": {
    "papermill": {
     "duration": 0.049,
     "end_time": "2021-01-12T22:23:06.296650",
     "exception": false,
     "start_time": "2021-01-12T22:23:06.247650",
     "status": "completed"
    },
    "tags": []
   },
   "source": [
    "Author: Nicolas Legrand <nicolas.legrand@cfin.au.dk>"
   ]
  },
  {
   "cell_type": "code",
   "execution_count": 1,
   "metadata": {
    "execution": {
     "iopub.execute_input": "2021-01-12T22:23:06.420649Z",
     "iopub.status.busy": "2021-01-12T22:23:06.419650Z",
     "iopub.status.idle": "2021-01-12T22:23:10.083309Z",
     "shell.execute_reply": "2021-01-12T22:23:10.085308Z"
    },
    "papermill": {
     "duration": 3.744658,
     "end_time": "2021-01-12T22:23:10.086310",
     "exception": false,
     "start_time": "2021-01-12T22:23:06.341652",
     "status": "completed"
    },
    "tags": []
   },
   "outputs": [],
   "source": [
    "import os\n",
    "import pandas as pd\n",
    "import matplotlib.pyplot as plt\n",
    "from scipy.stats import norm\n",
    "import seaborn as sns\n",
    "import numpy as np\n",
    "from metadPy import sdt\n",
    "from metadPy.utils import trials2counts, discreteRatings\n",
    "from metadPy.plotting import plot_confidence\n",
    "from systole.detection import oxi_peaks\n",
    "import pingouin as pg\n",
    "\n",
    "sns.set_context('talk')\n",
    "%matplotlib inline"
   ]
  },
  {
   "cell_type": "markdown",
   "metadata": {
    "papermill": {
     "duration": 0.089524,
     "end_time": "2021-01-12T22:23:10.247835",
     "exception": false,
     "start_time": "2021-01-12T22:23:10.158311",
     "status": "completed"
    },
    "tags": []
   },
   "source": [
    "# Heart Rate Discrimination task - Summary results"
   ]
  },
  {
   "cell_type": "markdown",
   "metadata": {
    "papermill": {
     "duration": 0.085559,
     "end_time": "2021-01-12T22:23:10.419916",
     "exception": false,
     "start_time": "2021-01-12T22:23:10.334357",
     "status": "completed"
    },
    "tags": []
   },
   "source": [
    "This notebook introduces basic analysis steps, plots and quality check for the Heart Rate Discrimination task. The current version use data from a young and healthy participant tested with the default task parameters implemented in the launcher.py file (80 trials per condition, 30 using a 1-Up/1-Down staircase and 50 using the Psi method.\n",
    "\n",
    "The target directory is defined by the `path` variable and should include the following files: `final.txt` (the behavioural data), `Intero_posterior.npy` and `Extero_posterior.npy` (the posterior estimates) and `signal.txt` (the PPG signal time series during the interoception trials)."
   ]
  },
  {
   "cell_type": "markdown",
   "metadata": {
    "papermill": {
     "duration": 0.102212,
     "end_time": "2021-01-12T22:23:10.616127",
     "exception": false,
     "start_time": "2021-01-12T22:23:10.513915",
     "status": "completed"
    },
    "tags": []
   },
   "source": [
    "**Import data**"
   ]
  },
  {
   "cell_type": "code",
   "execution_count": 2,
   "metadata": {
    "execution": {
     "iopub.execute_input": "2021-01-12T22:23:10.788126Z",
     "iopub.status.busy": "2021-01-12T22:23:10.787125Z",
     "iopub.status.idle": "2021-01-12T22:23:10.793126Z",
     "shell.execute_reply": "2021-01-12T22:23:10.791127Z"
    },
    "papermill": {
     "duration": 0.094998,
     "end_time": "2021-01-12T22:23:10.793126",
     "exception": false,
     "start_time": "2021-01-12T22:23:10.698128",
     "status": "completed"
    },
    "tags": [
     "parameters"
    ]
   },
   "outputs": [],
   "source": [
    "path = \"C:/Users/au646069/ECG/1_VPN_aux/\"\n",
    "outputPath = \"C:/Users/au646069/github/CardioceptionPaper/data/raw/\"\n",
    "subject = \"sub_0076\"\n",
    "session = \"Del2\""
   ]
  },
  {
   "cell_type": "code",
   "execution_count": 3,
   "metadata": {
    "execution": {
     "iopub.execute_input": "2021-01-12T22:23:10.943658Z",
     "iopub.status.busy": "2021-01-12T22:23:10.942659Z",
     "iopub.status.idle": "2021-01-12T22:23:10.949649Z",
     "shell.execute_reply": "2021-01-12T22:23:10.950649Z"
    },
    "papermill": {
     "duration": 0.089521,
     "end_time": "2021-01-12T22:23:10.950649",
     "exception": false,
     "start_time": "2021-01-12T22:23:10.861128",
     "status": "completed"
    },
    "tags": [
     "injected-parameters"
    ]
   },
   "outputs": [],
   "source": [
    "# Parameters\n",
    "subject = \"sub_0077\"\n",
    "path = \"C:/Users/au646069/ECG/1_VPN_aux/\"\n"
   ]
  },
  {
   "cell_type": "markdown",
   "metadata": {
    "tags": [
     "papermill-error-cell-tag"
    ]
   },
   "source": [
    "<span id=\"papermill-error-cell\" style=\"color:red; font-family:Helvetica Neue, Helvetica, Arial, sans-serif; font-size:2em;\">Execution using papermill encountered an exception here and stopped:</span>"
   ]
  },
  {
   "cell_type": "code",
   "execution_count": 4,
   "metadata": {
    "execution": {
     "iopub.execute_input": "2021-01-12T22:23:11.109225Z",
     "iopub.status.busy": "2021-01-12T22:23:11.106664Z",
     "iopub.status.idle": "2021-01-12T22:23:11.497812Z",
     "shell.execute_reply": "2021-01-12T22:23:11.494810Z"
    },
    "papermill": {
     "duration": 0.48116,
     "end_time": "2021-01-12T22:23:11.497812",
     "exception": true,
     "start_time": "2021-01-12T22:23:11.016652",
     "status": "failed"
    },
    "tags": []
   },
   "outputs": [
    {
     "ename": "IndexError",
     "evalue": "list index out of range",
     "output_type": "error",
     "traceback": [
      "\u001b[1;31m---------------------------------------------------------------------------\u001b[0m",
      "\u001b[1;31mIndexError\u001b[0m                                Traceback (most recent call last)",
      "\u001b[1;32m<ipython-input-4-7278eea10d81>\u001b[0m in \u001b[0;36m<module>\u001b[1;34m\u001b[0m\n\u001b[0;32m     14\u001b[0m     \u001b[0mresultsFiles\u001b[0m \u001b[1;33m=\u001b[0m \u001b[0mos\u001b[0m\u001b[1;33m.\u001b[0m\u001b[0mlistdir\u001b[0m\u001b[1;33m(\u001b[0m\u001b[0mos\u001b[0m\u001b[1;33m.\u001b[0m\u001b[0mpath\u001b[0m\u001b[1;33m.\u001b[0m\u001b[0mjoin\u001b[0m\u001b[1;33m(\u001b[0m\u001b[0mpath\u001b[0m\u001b[1;33m,\u001b[0m \u001b[0msubject\u001b[0m\u001b[1;33m,\u001b[0m \u001b[1;34m'HRD_del2'\u001b[0m\u001b[1;33m)\u001b[0m\u001b[1;33m)\u001b[0m\u001b[1;33m\u001b[0m\u001b[1;33m\u001b[0m\u001b[0m\n\u001b[0;32m     15\u001b[0m     \u001b[1;31m# Logs dataframe\u001b[0m\u001b[1;33m\u001b[0m\u001b[1;33m\u001b[0m\u001b[1;33m\u001b[0m\u001b[0m\n\u001b[1;32m---> 16\u001b[1;33m     \u001b[0mdf\u001b[0m \u001b[1;33m=\u001b[0m \u001b[0mpd\u001b[0m\u001b[1;33m.\u001b[0m\u001b[0mread_csv\u001b[0m\u001b[1;33m(\u001b[0m\u001b[0mos\u001b[0m\u001b[1;33m.\u001b[0m\u001b[0mpath\u001b[0m\u001b[1;33m.\u001b[0m\u001b[0mjoin\u001b[0m\u001b[1;33m(\u001b[0m\u001b[0mpath\u001b[0m\u001b[1;33m,\u001b[0m \u001b[0msubject\u001b[0m\u001b[1;33m,\u001b[0m \u001b[1;34m'HRD_del2'\u001b[0m\u001b[1;33m,\u001b[0m \u001b[1;33m[\u001b[0m\u001b[0mfile\u001b[0m \u001b[1;32mfor\u001b[0m \u001b[0mfile\u001b[0m \u001b[1;32min\u001b[0m \u001b[0mresultsFiles\u001b[0m \u001b[1;32mif\u001b[0m \u001b[0mfile\u001b[0m\u001b[1;33m.\u001b[0m\u001b[0mendswith\u001b[0m\u001b[1;33m(\u001b[0m\u001b[1;34m'final.txt'\u001b[0m\u001b[1;33m)\u001b[0m\u001b[1;33m]\u001b[0m\u001b[1;33m[\u001b[0m\u001b[1;36m0\u001b[0m\u001b[1;33m]\u001b[0m\u001b[1;33m)\u001b[0m\u001b[1;33m)\u001b[0m\u001b[1;33m\u001b[0m\u001b[1;33m\u001b[0m\u001b[0m\n\u001b[0m\u001b[0;32m     17\u001b[0m \u001b[1;33m\u001b[0m\u001b[0m\n\u001b[0;32m     18\u001b[0m     \u001b[1;31m# History of posteriors distribution\u001b[0m\u001b[1;33m\u001b[0m\u001b[1;33m\u001b[0m\u001b[1;33m\u001b[0m\u001b[0m\n",
      "\u001b[1;31mIndexError\u001b[0m: list index out of range"
     ]
    }
   ],
   "source": [
    "if session == 'Del1':\n",
    "    resultsFiles = os.listdir(os.path.join(path, f\"{subject}/HRD\"))\n",
    "    # Logs dataframe\n",
    "    df = pd.read_csv(os.path.join(path, subject, 'HRD', [file for file in resultsFiles if file.endswith('final.txt')][0]))\n",
    "\n",
    "    # History of posteriors distribution\n",
    "    interoPost = np.load(os.path.join(path, subject, 'HRD', [file for file in resultsFiles if file.endswith('Intero_posterior.npy')][0]))\n",
    "    exteroPost = np.load(os.path.join(path, subject, 'HRD', [file for file in resultsFiles if file.endswith('Extero_posterior.npy')][0]))\n",
    "\n",
    "    # PPG signal\n",
    "    signal_df = pd.read_csv(os.path.join(path, subject, 'HRD', [file for file in resultsFiles if file.endswith('signal.txt')][0]))\n",
    "    signal_df['Time'] = np.arange(0, len(signal_df))/1000 # Create time vector\n",
    "elif session == 'Del2':\n",
    "    resultsFiles = os.listdir(os.path.join(path, subject, 'HRD_del2'))\n",
    "    # Logs dataframe\n",
    "    df = pd.read_csv(os.path.join(path, subject, 'HRD_del2', [file for file in resultsFiles if file.endswith('final.txt')][0]))\n",
    "\n",
    "    # History of posteriors distribution\n",
    "    interoPost = np.load(os.path.join(path, subject, 'HRD_del2', [file for file in resultsFiles if file.endswith('Intero_posterior.npy')][0]))\n",
    "    exteroPost = np.load(os.path.join(path, subject, 'HRD_del2', [file for file in resultsFiles if file.endswith('Extero_posterior.npy')][0]))\n",
    "\n",
    "    # PPG signal\n",
    "    signal_df = pd.read_csv(os.path.join(path, subject, 'HRD_del2', [file for file in resultsFiles if file.endswith('signal.txt')][0]))\n",
    "    signal_df['Time'] = np.arange(0, len(signal_df))/1000 # Create time vector"
   ]
  },
  {
   "cell_type": "code",
   "execution_count": null,
   "metadata": {
    "papermill": {
     "duration": null,
     "end_time": null,
     "exception": null,
     "start_time": null,
     "status": "pending"
    },
    "tags": []
   },
   "outputs": [],
   "source": [
    "if session == 'Del1':\n",
    "    df['DecisionRT'] = df['EstimationRT']\n",
    "    df['Decision'] = df['Estimation']\n",
    "    df['TrialType'] = df['StairCond']"
   ]
  },
  {
   "cell_type": "markdown",
   "metadata": {
    "papermill": {
     "duration": null,
     "end_time": null,
     "exception": null,
     "start_time": null,
     "status": "pending"
    },
    "tags": []
   },
   "source": [
    "Save raw data"
   ]
  },
  {
   "cell_type": "code",
   "execution_count": null,
   "metadata": {
    "papermill": {
     "duration": null,
     "end_time": null,
     "exception": null,
     "start_time": null,
     "status": "pending"
    },
    "tags": []
   },
   "outputs": [],
   "source": [
    "folder = 'HRD/' if session == 'Del1' else 'HRD2/'\n",
    "if not os.path.exists(os.path.join(outputPath, folder, subject)):\n",
    "    os.mkdir(os.path.join(outputPath, folder, subject))\n",
    "df.to_csv(os.path.join(outputPath, folder, subject, 'raw.txt'))"
   ]
  },
  {
   "cell_type": "markdown",
   "metadata": {
    "papermill": {
     "duration": null,
     "end_time": null,
     "exception": null,
     "start_time": null,
     "status": "pending"
    },
    "tags": []
   },
   "source": [
    "# Response time"
   ]
  },
  {
   "cell_type": "code",
   "execution_count": null,
   "metadata": {
    "papermill": {
     "duration": null,
     "end_time": null,
     "exception": null,
     "start_time": null,
     "status": "pending"
    },
    "tags": []
   },
   "outputs": [],
   "source": [
    "palette = ['#b55d60', '#5f9e6e']\n",
    "\n",
    "fig, axs = plt.subplots(1, 2, figsize=(13, 5))\n",
    "for i, task, title in zip([0, 1], ['DecisionRT', 'ConfidenceRT'], ['Decision', 'Confidence']):\n",
    "    sns.boxplot(data=df, x='Modality', y=task, hue='ResponseCorrect',\n",
    "                palette=palette, width=.15, notch=True, ax=axs[i])\n",
    "    sns.stripplot(data=df, x='Modality', y=task, hue='ResponseCorrect',\n",
    "                  dodge=True, linewidth=1, size=6, palette=palette, alpha=.6, ax=axs[i])\n",
    "    axs[i].set_title(title)\n",
    "    axs[i].set_ylabel('Response Time (s)')\n",
    "    axs[i].set_xlabel('')\n",
    "    axs[i].get_legend().remove()\n",
    "sns.despine(trim=10)\n",
    "\n",
    "handles, labels = axs[0].get_legend_handles_labels()\n",
    "plt.legend(handles[0:2], ['Incorrect', 'Correct'], bbox_to_anchor=(1.05, .5), loc=2, borderaxespad=0.)"
   ]
  },
  {
   "cell_type": "markdown",
   "metadata": {
    "papermill": {
     "duration": null,
     "end_time": null,
     "exception": null,
     "start_time": null,
     "status": "pending"
    },
    "tags": []
   },
   "source": [
    "Response time distribution for the decision and the confidence rating phases for correct (red) and incorrect (green) responses."
   ]
  },
  {
   "cell_type": "markdown",
   "metadata": {
    "papermill": {
     "duration": null,
     "end_time": null,
     "exception": null,
     "start_time": null,
     "status": "pending"
    },
    "tags": []
   },
   "source": [
    "# Metacognition"
   ]
  },
  {
   "cell_type": "markdown",
   "metadata": {
    "papermill": {
     "duration": null,
     "end_time": null,
     "exception": null,
     "start_time": null,
     "status": "pending"
    },
    "tags": []
   },
   "source": [
    "SDT estimate for decision 1 perforamces (d' and criterion)"
   ]
  },
  {
   "cell_type": "code",
   "execution_count": null,
   "metadata": {
    "papermill": {
     "duration": null,
     "end_time": null,
     "exception": null,
     "start_time": null,
     "status": "pending"
    },
    "tags": []
   },
   "outputs": [],
   "source": [
    "for i, cond in enumerate(['Intero', 'Extero']):\n",
    "    this_df = df[df.Modality == cond].copy()\n",
    "    this_df['Stimuli'] = (this_df.responseBPM > this_df.listenBPM)\n",
    "    this_df['Responses'] = (this_df.Decision == 'More')\n",
    "\n",
    "    hit, miss, fa, cr = this_df.scores()\n",
    "    hr, far = sdt.rates(hits=hit, misses=miss, fas=fa, crs=cr)\n",
    "    d, c = sdt.dprime(hit_rate=hr, fa_rate=far), sdt.criterion(hit_rate=hr, fa_rate=far)\n",
    "    \n",
    "    print(f'Condition: {cond} - d-prime: {d} - criterion: {c}')"
   ]
  },
  {
   "cell_type": "code",
   "execution_count": null,
   "metadata": {
    "papermill": {
     "duration": null,
     "end_time": null,
     "exception": null,
     "start_time": null,
     "status": "pending"
    },
    "tags": []
   },
   "outputs": [],
   "source": [
    "fig, axs = plt.subplots(1, 2, figsize=(13, 5))\n",
    "\n",
    "for i, cond in enumerate(['Intero', 'Extero']):\n",
    "    try:\n",
    "        this_df = df[(df.Modality == cond) & (df.RatingProvided == 1)]\n",
    "        this_df = this_df[~this_df.Confidence.isnull()]\n",
    "        new_confidence, _ = discreteRatings(this_df.Confidence)\n",
    "        this_df['Confidence'] = new_confidence\n",
    "        this_df['Stimuli'] = (this_df.Alpha > 0).astype('int')\n",
    "        this_df['Responses'] = (this_df.Decision == 'More').astype('int')\n",
    "        nR_S1, nR_S2 = trials2counts(data=this_df)\n",
    "        plot_confidence(nR_S1, nR_S2, ax=axs[i])\n",
    "        axs[i].set_title(f'{cond} condition')\n",
    "    except:\n",
    "        print('Invalid ratings')\n",
    "        this_df = df[df.Modality == cond]\n",
    "        sns.histplot(this_df[this_df.ResponseCorrect==1].Confidence, ax=axs[i], color=\"#5f9e6e\",)\n",
    "        sns.histplot(this_df[this_df.ResponseCorrect==0].Confidence, ax=axs[i], color=\"#b55d60\")\n",
    "        axs[i].set_title(f'{cond} condition')\n",
    "sns.despine()\n",
    "plt.tight_layout()"
   ]
  },
  {
   "cell_type": "markdown",
   "metadata": {
    "papermill": {
     "duration": null,
     "end_time": null,
     "exception": null,
     "start_time": null,
     "status": "pending"
    },
    "tags": []
   },
   "source": [
    "Distribution of confidence ratings for correct (green) and incorrect (red) trials. Overlapping distribution suggests that the subjective confidence in the decision was not predictive of decision performances."
   ]
  },
  {
   "cell_type": "markdown",
   "metadata": {
    "papermill": {
     "duration": null,
     "end_time": null,
     "exception": null,
     "start_time": null,
     "status": "pending"
    },
    "tags": []
   },
   "source": [
    "# Psychophysics"
   ]
  },
  {
   "cell_type": "markdown",
   "metadata": {
    "papermill": {
     "duration": null,
     "end_time": null,
     "exception": null,
     "start_time": null,
     "status": "pending"
    },
    "tags": []
   },
   "source": [
    "Distribution of the intensities values."
   ]
  },
  {
   "cell_type": "code",
   "execution_count": null,
   "metadata": {
    "papermill": {
     "duration": null,
     "end_time": null,
     "exception": null,
     "start_time": null,
     "status": "pending"
    },
    "tags": []
   },
   "outputs": [],
   "source": [
    "fig, axs = plt.subplots(1, 1, figsize=(8, 5))\n",
    "\n",
    "for cond, col in zip(['Intero', 'Extero'], ['#c44e52', '#4c72b0']):\n",
    "    this_df = df[df.Modality == cond]\n",
    "    axs.hist(this_df.Alpha, color=col, bins=np.arange(-40.5, 40.5, 5), histtype='stepfilled',\n",
    "             ec=\"k\", density=True, align='mid', label=cond, alpha=.6)\n",
    "axs.set_title('Distribution of the tested intensities values')\n",
    "axs.set_xlabel('Intensity (BPM)')\n",
    "plt.legend()\n",
    "sns.despine(trim=10)\n",
    "plt.tight_layout()"
   ]
  },
  {
   "cell_type": "markdown",
   "metadata": {
    "papermill": {
     "duration": null,
     "end_time": null,
     "exception": null,
     "start_time": null,
     "status": "pending"
    },
    "tags": []
   },
   "source": [
    "## Staircases"
   ]
  },
  {
   "cell_type": "markdown",
   "metadata": {
    "papermill": {
     "duration": null,
     "end_time": null,
     "exception": null,
     "start_time": null,
     "status": "pending"
    },
    "tags": []
   },
   "source": [
    "### 1-Up/1-Down"
   ]
  },
  {
   "cell_type": "code",
   "execution_count": null,
   "metadata": {
    "papermill": {
     "duration": null,
     "end_time": null,
     "exception": null,
     "start_time": null,
     "status": "pending"
    },
    "tags": []
   },
   "outputs": [],
   "source": [
    "if sum(df.StairCond == 'UpDown') > 0:\n",
    "\n",
    "    fig, axs = plt.subplots(figsize=(15, 5), nrows=1, ncols=2)\n",
    "\n",
    "    # Staircase traces\n",
    "    for i, cond, col in zip([0, 1], ['Intero', 'Extero'], ['#c44e52', '#4c72b0']):\n",
    "        this_df = df[(df.Modality == cond) & (df.TrialType == 'UpDown')]\n",
    "\n",
    "        axs[i].plot(np.arange(0, len(this_df))[this_df.StairCond == 'high'], \n",
    "                        this_df.Alpha[this_df.StairCond == 'high'], linestyle='--', color=col, linewidth=2)\n",
    "        axs[i].plot(np.arange(0, len(this_df))[this_df.StairCond == 'low'], \n",
    "                        this_df.Alpha[this_df.StairCond == 'low'], linestyle='-', color=col, linewidth=2)\n",
    "\n",
    "        axs[i].plot(np.arange(0, len(this_df))[this_df.Decision == 'More'], \n",
    "                        this_df.Alpha[this_df.Decision == 'More'], col, marker='o', linestyle='', markeredgecolor='k', label=cond)\n",
    "        axs[i].plot(np.arange(0, len(this_df))[this_df.Decision == 'Less'], \n",
    "                        this_df.Alpha[this_df.Decision == 'Less'], 'w', marker='s', linestyle='', markeredgecolor=col, label=cond)\n",
    "\n",
    "        axs[i].axhline(y=0, linestyle='--', color = 'gray')\n",
    "        handles, labels = axs[i].get_legend_handles_labels()\n",
    "        axs[i].legend(handles[0:2], ['More', 'Less'], borderaxespad=0., title='Decision')\n",
    "        axs[i].set_ylabel('Intensity ($\\Delta$ BPM)')\n",
    "        axs[i].set_xlabel('Trials')\n",
    "        axs[i].set_ylim(-42, 42)\n",
    "        axs[i].set_title(cond+'ception')\n",
    "        sns.despine(trim=10, ax=axs[i])\n",
    "        plt.gcf()"
   ]
  },
  {
   "cell_type": "markdown",
   "metadata": {
    "papermill": {
     "duration": null,
     "end_time": null,
     "exception": null,
     "start_time": null,
     "status": "pending"
    },
    "tags": []
   },
   "source": [
    "### Psi"
   ]
  },
  {
   "cell_type": "code",
   "execution_count": null,
   "metadata": {
    "papermill": {
     "duration": null,
     "end_time": null,
     "exception": null,
     "start_time": null,
     "status": "pending"
    },
    "tags": []
   },
   "outputs": [],
   "source": [
    "if sum(df.TrialType == 'psi') > 0:\n",
    "\n",
    "    fig, axs = plt.subplots(figsize=(18, 5), nrows=1, ncols=2)\n",
    "\n",
    "    # Plot confidence interval for each staircase\n",
    "    def ci(x):\n",
    "        return np.where(np.cumsum(x) / np.sum(x) > .025)[0][0], \\\n",
    "               np.where(np.cumsum(x) / np.sum(x) < .975)[0][-1]\n",
    "\n",
    "    for i, stair, col in zip([0, 1], [interoPost, exteroPost], ['#c44e52', '#4c72b0']):\n",
    "        ciUp, ciLow = [], []\n",
    "        for t in range(stair.shape[0]):\n",
    "            up, low = ci(stair.mean(2)[t])\n",
    "            rg = np.arange(-40.5, 40.5) if session == 'Del1' else np.arange(-50.5, 50.5)\n",
    "            ciUp.append(rg[up])\n",
    "            ciLow.append(rg[low])\n",
    "        if session == 'Del1':\n",
    "            axs[i].fill_between(x=np.arange(len(ciLow)),\n",
    "                                y1=ciLow,\n",
    "                                y2=ciUp,\n",
    "                                color=col, alpha=.2)\n",
    "        elif session == 'Del2':\n",
    "            axs[i].fill_between(x=np.linspace(0, len(this_df), len(ciUp)),\n",
    "                                y1=ciLow,\n",
    "                                y2=ciUp,\n",
    "                                color=col, alpha=.2)\n",
    "\n",
    "\n",
    "    # Staircase traces\n",
    "    for i, cond, col in zip([0, 1], ['Intero', 'Extero'], ['#c44e52', '#4c72b0']):\n",
    "        this_df = df[(df.Modality == cond) & (df.TrialType != 'UpDown')]\n",
    "\n",
    "        # Show UpDown staircase traces\n",
    "        axs[i].plot(np.arange(0, len(this_df))[this_df.StairCond == 'high'], \n",
    "                        this_df.Alpha[this_df.StairCond == 'high'], linestyle='--', color=col, linewidth=2)\n",
    "        axs[i].plot(np.arange(0, len(this_df))[this_df.StairCond == 'low'], \n",
    "                        this_df.Alpha[this_df.StairCond == 'low'], linestyle='-', color=col, linewidth=2)\n",
    "        if session == 'Del1':\n",
    "            axs[i].plot(np.arange(0, len(this_df))[this_df.Decision == 'More'], \n",
    "                            this_df.Alpha[this_df.Decision == 'More'], col, marker='o', linestyle='', markeredgecolor='k', label=cond)\n",
    "            axs[i].plot(np.arange(0, len(this_df))[this_df.Decision == 'Less'], \n",
    "                            this_df.Alpha[this_df.Decision == 'Less'], 'w', marker='s', linestyle='', markeredgecolor=col, label=cond)\n",
    "        elif session == 'Del2':\n",
    "            # Use different colors for psi and catch trials\n",
    "            for trialCond, pointCol in zip(['psi', 'psiCatchTrial'], [col, 'gray']):\n",
    "                axs[i].plot(np.arange(0, len(this_df))[(this_df.Decision == 'More') & (this_df.TrialType == trialCond)], \n",
    "                            this_df.Alpha[(this_df.Decision == 'More') & (this_df.TrialType == trialCond)], \n",
    "                            pointCol, marker='o', linestyle='', markeredgecolor='k', label=cond)\n",
    "                axs[i].plot(np.arange(0, len(this_df))[(this_df.Decision == 'Less') & (this_df.TrialType == trialCond)],\n",
    "                            this_df.Alpha[(this_df.Decision == 'Less') & (this_df.TrialType == trialCond)], \n",
    "                            'w', marker='s', linestyle='', markeredgecolor=pointCol, label=cond)\n",
    "        \n",
    "        # Trheshold estimate\n",
    "        if session == 'Del1':\n",
    "            axs[i].plot(np.arange(sum(this_df.StairCond != 'psi'), len(this_df)), this_df[this_df.StairCond == 'psi'].EstimatedThreshold, linestyle='-', color=col, linewidth=4)\n",
    "            axs[i].plot(np.arange(0, sum(this_df.StairCond != 'psi')), this_df[this_df.StairCond != 'psi'].EstimatedThreshold, linestyle='--', color=col, linewidth=2, alpha=.3)\n",
    "        elif session == 'Del2':\n",
    "            # Psi trials\n",
    "            axs[i].plot(np.arange(len(this_df))[this_df.TrialType=='psi'],\n",
    "                        this_df[this_df.TrialType=='psi'].EstimatedThreshold, linestyle='-', color=col, linewidth=4)\n",
    "    \n",
    "        axs[i].axhline(y=0, linestyle='--', color = 'gray')\n",
    "        handles, labels = axs[i].get_legend_handles_labels()\n",
    "        axs[i].legend(handles[0:2], ['More', 'Less'], borderaxespad=0., title='Decision')\n",
    "        axs[i].set_ylabel('Intensity ($\\Delta$ BPM)')\n",
    "        axs[i].set_xlabel('Trials')\n",
    "        lim = 42 if session=='Del1' else 52\n",
    "        axs[i].set_ylim(-lim, lim)\n",
    "        axs[i].set_title(cond+'ception')\n",
    "        sns.despine(trim=10, ax=axs[i])\n",
    "        plt.gcf()"
   ]
  },
  {
   "cell_type": "markdown",
   "metadata": {
    "papermill": {
     "duration": null,
     "end_time": null,
     "exception": null,
     "start_time": null,
     "status": "pending"
    },
    "tags": []
   },
   "source": [
    "This figure represents the evolution of threshold estimate across trials for the Interoception and Exteroception condition. Shaded areas represent the 95% confidence interval of the threshold estimate by Psi. For each condition, the first 30 trials (connected with dashed lines) were allocated to an Up/Down method (2 interleaved staircases starting a -40.5 or 40 respectively). The intensities and responses were included in the Psi staircase to maximize the amount of information included. The remaining 50 trials were monitored by the Psi staircase only. This dual estimation was implemented to estimate the reliability of the estimation of threshold using an up/down procedure, as compared to a longer psi procedure."
   ]
  },
  {
   "cell_type": "markdown",
   "metadata": {
    "papermill": {
     "duration": null,
     "end_time": null,
     "exception": null,
     "start_time": null,
     "status": "pending"
    },
    "tags": []
   },
   "source": [
    "# Psychometric function"
   ]
  },
  {
   "cell_type": "code",
   "execution_count": null,
   "metadata": {
    "papermill": {
     "duration": null,
     "end_time": null,
     "exception": null,
     "start_time": null,
     "status": "pending"
    },
    "tags": []
   },
   "outputs": [],
   "source": [
    "sns.set_context('talk')\n",
    "fig, axs = plt.subplots(figsize=(8, 5))\n",
    "for i, modality, col in zip((0, 1), ['Extero', 'Intero'], ['#4c72b0', '#c44e52']):\n",
    "    \n",
    "    this_df = df[(df.Modality == modality) & (df.TrialType == 'psi')]\n",
    "\n",
    "    t, s = this_df.EstimatedThreshold.iloc[-1], this_df.EstimatedSlope.iloc[-1]\n",
    "    # Plot Psi estimate of psychometric function\n",
    "    axs.plot(np.linspace(-40, 40, 500), \n",
    "            (norm.cdf(np.linspace(-40, 40, 500), loc=t, scale=s)),\n",
    "            '--', color=col, label=modality)\n",
    "    # Plot threshold\n",
    "    axs.plot([t, t], [0, .5], color=col, linewidth=2)\n",
    "    axs.plot(t, .5, 'o', color=col, markersize=10)\n",
    "\n",
    "    # Plot data points\n",
    "    for ii, intensity in enumerate(np.sort(this_df.Alpha.unique())):\n",
    "        resp = sum((this_df.Alpha == intensity) & (this_df.Decision == 'More'))\n",
    "        total = sum(this_df.Alpha == intensity)\n",
    "        axs.plot(intensity, resp/total, 'o', alpha=0.5, color=col, markeredgecolor='k', markersize=total*5)\n",
    "plt.ylabel('P$_{(Response = More|Intensity)}$')\n",
    "plt.xlabel('Intensity ($\\Delta$ BPM)')\n",
    "plt.tight_layout()\n",
    "plt.legend()\n",
    "sns.despine()"
   ]
  },
  {
   "cell_type": "markdown",
   "metadata": {
    "papermill": {
     "duration": null,
     "end_time": null,
     "exception": null,
     "start_time": null,
     "status": "pending"
    },
    "tags": []
   },
   "source": [
    "Psychometric functions fitted using the estimated threshold and slope from the final trial on each condition. The size of the circles reflects the proportion of responses for each intensity level."
   ]
  },
  {
   "cell_type": "markdown",
   "metadata": {
    "papermill": {
     "duration": null,
     "end_time": null,
     "exception": null,
     "start_time": null,
     "status": "pending"
    },
    "tags": []
   },
   "source": [
    "# Pulse oximeter"
   ]
  },
  {
   "cell_type": "markdown",
   "metadata": {
    "papermill": {
     "duration": null,
     "end_time": null,
     "exception": null,
     "start_time": null,
     "status": "pending"
    },
    "tags": []
   },
   "source": [
    "## Visualization of PPG signal"
   ]
  },
  {
   "cell_type": "markdown",
   "metadata": {
    "papermill": {
     "duration": null,
     "end_time": null,
     "exception": null,
     "start_time": null,
     "status": "pending"
    },
    "tags": []
   },
   "source": [
    "This interactive graph shows the PPG signal recorded at each interoceptive trial. Blue and red time series represent different trials of 6 seconds each. In each trial, the 5 last seconds were used to estimate the average heart rate of the participant, the first second was included to help peak detection algorithm initialization.\n",
    "\n",
    "Bad trials are represented with shaded area. A trial was marked as bad and removed if one of the two conditions was met:\n",
    "* Contain a RR interval marked as an outlier. Outliers were detected using the MAD rule on all RR intervals in the recording.\n",
    "* The standard deviation of the RR interval inside the trial is larger than 5."
   ]
  },
  {
   "cell_type": "code",
   "execution_count": null,
   "metadata": {
    "papermill": {
     "duration": null,
     "end_time": null,
     "exception": null,
     "start_time": null,
     "status": "pending"
    },
    "tags": []
   },
   "outputs": [],
   "source": [
    "drop, bpm_std, bpm_df = [], [], pd.DataFrame([])\n",
    "clean_df = df.copy()\n",
    "for i, trial in enumerate(signal_df.nTrial.unique()):\n",
    "    color = '#c44e52' if (i % 2) == 0 else '#4c72b0'\n",
    "    this_df = signal_df[signal_df.nTrial==trial]  # Downsample to save memory\n",
    "    \n",
    "    signal, peaks = oxi_peaks(this_df.signal, sfreq=1000)\n",
    "    bpm = 60000/np.diff(np.where(peaks)[0])\n",
    "    \n",
    "    bpm_df = bpm_df.append(pd.DataFrame({'bpm': bpm, 'nEpoch': i, 'nTrial': trial}))\n",
    "\n",
    "# Check for outliers in the absolute value of RR intervals \n",
    "for e, t in zip(bpm_df.nEpoch[pg.madmedianrule(bpm_df.bpm.to_numpy())].unique(),\n",
    "                bpm_df.nTrial[pg.madmedianrule(bpm_df.bpm.to_numpy())].unique()):\n",
    "    drop.append(e)\n",
    "    clean_df = clean_df[clean_df.nTrials != t]\n",
    "\n",
    "# Check for outliers in the standard deviation values of RR intervals \n",
    "for e, t in zip(np.arange(0, signal_df.nTrial.nunique())[pg.madmedianrule(bpm_df.copy().groupby(['nTrial', 'nEpoch']).bpm.std().to_numpy())],\n",
    "                signal_df.nTrial.unique()[pg.madmedianrule(bpm_df.copy().groupby(['nTrial', 'nEpoch']).bpm.std().to_numpy())]):\n",
    "    if e not in drop:\n",
    "        drop.append(e)\n",
    "        clean_df = clean_df[clean_df.nTrials != t]"
   ]
  },
  {
   "cell_type": "code",
   "execution_count": null,
   "metadata": {
    "papermill": {
     "duration": null,
     "end_time": null,
     "exception": null,
     "start_time": null,
     "status": "pending"
    },
    "tags": []
   },
   "outputs": [],
   "source": [
    "meanBPM, stdBPM, rangeBPM = [], [], []\n",
    "\n",
    "fig, ax = plt.subplots(nrows=2, sharex=True, figsize=(30, 10))\n",
    "for i, trial in enumerate(signal_df.nTrial.unique()):\n",
    "    \n",
    "    color = '#c44e52' if (i % 2) == 0 else '#4c72b0'\n",
    "    this_df = signal_df[signal_df.nTrial==trial]  # Downsample to save memory\n",
    "    \n",
    "    # Mark as outlier if relevant\n",
    "    if i in drop:\n",
    "        ax[0].axvspan(this_df.Time.iloc[0], this_df.Time.iloc[-1], alpha=.3, color='gray')\n",
    "        ax[1].axvspan(this_df.Time.iloc[0], this_df.Time.iloc[-1], alpha=.3, color='gray')\n",
    "    \n",
    "    ax[0].plot(this_df.Time, this_df.signal, label='PPG', color=color, linewidth=.5)\n",
    "\n",
    "    # Peaks detection\n",
    "    signal, peaks = oxi_peaks(this_df.signal, sfreq=1000)\n",
    "    bpm = 60000/np.diff(np.where(peaks)[0])\n",
    "    m, s, r = bpm.mean(), bpm.std(), bpm.max() - bpm.min()\n",
    "    meanBPM.append(m)\n",
    "    stdBPM.append(s)\n",
    "    rangeBPM.append(r)\n",
    "    \n",
    "    # Plot instantaneous heart rate\n",
    "    ax[1].plot(this_df.Time.to_numpy()[np.where(peaks)[0][1:]], \n",
    "               60000/np.diff(np.where(peaks)[0]),\n",
    "              'o-', color=color, alpha=0.6)\n",
    "\n",
    "ax[1].set_xlabel(\"Time (s)\")\n",
    "ax[0].set_ylabel(\"PPG level (a.u.)\")\n",
    "ax[1].set_ylabel(\"Heart rate (BPM)\")\n",
    "ax[0].set_title(\"PPG signal recorded during interoceptive condition (5 seconds each)\")\n",
    "sns.despine()\n",
    "ax[0].grid(True)\n",
    "ax[1].grid(True)"
   ]
  },
  {
   "cell_type": "markdown",
   "metadata": {
    "papermill": {
     "duration": null,
     "end_time": null,
     "exception": null,
     "start_time": null,
     "status": "pending"
    },
    "tags": []
   },
   "source": [
    "## Heart rate - Summary statistics"
   ]
  },
  {
   "cell_type": "markdown",
   "metadata": {
    "papermill": {
     "duration": null,
     "end_time": null,
     "exception": null,
     "start_time": null,
     "status": "pending"
    },
    "tags": []
   },
   "source": [
    "This figure show the evolution of the average and standard deviation of the instantaneous heart rate across time. An instantaneous frequnecy was derived between each peak detected in the PPG signal (also known as pulse-to-pulse intervals, or pseudo RR intervals). Rapid increase or decrease of the heart rate frequency can lead to larger standard deviation, and less accurate estimation of the average heart rate."
   ]
  },
  {
   "cell_type": "code",
   "execution_count": null,
   "metadata": {
    "papermill": {
     "duration": null,
     "end_time": null,
     "exception": null,
     "start_time": null,
     "status": "pending"
    },
    "tags": []
   },
   "outputs": [],
   "source": [
    "sns.set_context('talk')\n",
    "fig, axs = plt.subplots(figsize=(13, 5), nrows=2, ncols=2)\n",
    "meanBPM = np.delete(np.array(meanBPM), np.array(drop))\n",
    "stdBPM = np.delete(np.array(stdBPM), np.array(drop))\n",
    "for i, metric, col in zip(range(3), [meanBPM, stdBPM], ['#b55d60', '#5f9e6e']):\n",
    "    axs[i, 0].plot(metric, 'o-', color=col, alpha=.6)\n",
    "    axs[i, 1].hist(metric, color=col, bins=15, ec=\"k\", density=True, alpha=.6)\n",
    "    axs[i, 0].set_ylabel('Mean BPM' if i == 0 else 'STD BPM')\n",
    "    axs[i, 0].set_xlabel('Trials')\n",
    "    axs[i, 1].set_xlabel('BPM')\n",
    "sns.despine()\n",
    "plt.tight_layout()"
   ]
  },
  {
   "cell_type": "markdown",
   "metadata": {
    "papermill": {
     "duration": null,
     "end_time": null,
     "exception": null,
     "start_time": null,
     "status": "pending"
    },
    "tags": []
   },
   "source": [
    "# Exclude task 1 RT outliers"
   ]
  },
  {
   "cell_type": "code",
   "execution_count": null,
   "metadata": {
    "papermill": {
     "duration": null,
     "end_time": null,
     "exception": null,
     "start_time": null,
     "status": "pending"
    },
    "tags": []
   },
   "outputs": [],
   "source": [
    "col = 'EstimationRT' if session=='Del1' else 'DecisionRT'\n",
    "for modality in ['Intero', 'Extero']:\n",
    "    drop = clean_df[clean_df.Modality == modality].nTrials[pg.madmedianrule(clean_df[clean_df.Modality == modality][col])].to_list()\n",
    "    clean_df = clean_df[~ clean_df.nTrials.isin(drop)]"
   ]
  },
  {
   "cell_type": "markdown",
   "metadata": {
    "papermill": {
     "duration": null,
     "end_time": null,
     "exception": null,
     "start_time": null,
     "status": "pending"
    },
    "tags": []
   },
   "source": [
    "# Save dataframe"
   ]
  },
  {
   "cell_type": "code",
   "execution_count": null,
   "metadata": {
    "papermill": {
     "duration": null,
     "end_time": null,
     "exception": null,
     "start_time": null,
     "status": "pending"
    },
    "tags": []
   },
   "outputs": [],
   "source": [
    "# Drop no responses columns\n",
    "clean_df = clean_df[clean_df.RatingProvided]\n",
    "\n",
    "print(f'{len(clean_df[clean_df.Modality==\"Intero\"])} Interoception trials and {len(clean_df[clean_df.Modality==\"Extero\"])} exteroception trials remain.')"
   ]
  },
  {
   "cell_type": "code",
   "execution_count": null,
   "metadata": {
    "papermill": {
     "duration": null,
     "end_time": null,
     "exception": null,
     "start_time": null,
     "status": "pending"
    },
    "tags": []
   },
   "outputs": [],
   "source": [
    "clean_df.to_csv(os.path.join(outputPath, folder, subject, 'filtered.txt'))"
   ]
  },
  {
   "cell_type": "code",
   "execution_count": null,
   "metadata": {
    "papermill": {
     "duration": null,
     "end_time": null,
     "exception": null,
     "start_time": null,
     "status": "pending"
    },
    "tags": []
   },
   "outputs": [],
   "source": []
  }
 ],
 "metadata": {
  "kernelspec": {
   "display_name": "Python 3",
   "language": "python",
   "name": "python3"
  },
  "language_info": {
   "codemirror_mode": {
    "name": "ipython",
    "version": 3
   },
   "file_extension": ".py",
   "mimetype": "text/x-python",
   "name": "python",
   "nbconvert_exporter": "python",
   "pygments_lexer": "ipython3",
   "version": "3.7.6"
  },
  "papermill": {
   "default_parameters": {},
   "duration": 10.732924,
   "end_time": "2021-01-12T22:23:13.806813",
   "environment_variables": {},
   "exception": true,
   "input_path": "C:/Users/au646069/github/CardioceptionPaper/code/HeartRateDiscrimination.ipynb",
   "output_path": "C:/Users/au646069/github/CardioceptionPaper/reports/HRD2/sub_0077.ipynb",
   "parameters": {
    "path": "C:/Users/au646069/ECG/1_VPN_aux/",
    "subject": "sub_0077"
   },
   "start_time": "2021-01-12T22:23:03.073889",
   "version": "2.2.2"
  },
  "toc-autonumbering": true,
  "toc-showcode": true,
  "toc-showmarkdowntxt": true,
  "toc-showtags": true
 },
 "nbformat": 4,
 "nbformat_minor": 4
}