{
 "cells": [
  {
   "cell_type": "markdown",
   "metadata": {
    "tags": [
     "papermill-error-cell-tag"
    ]
   },
   "source": [
    "<span style=\"color:red; font-family:Helvetica Neue, Helvetica, Arial, sans-serif; font-size:2em;\">An Exception was encountered at '<a href=\"#papermill-error-cell\">In [1]</a>'.</span>"
   ]
  },
  {
   "cell_type": "markdown",
   "metadata": {
    "papermill": {
     "duration": 0.02,
     "end_time": "2021-01-05T13:37:24.579336",
     "exception": false,
     "start_time": "2021-01-05T13:37:24.559336",
     "status": "completed"
    },
    "tags": []
   },
   "source": [
    "Author: Nicolas Legrand <nicolas.legrand@cfin.au.dk>"
   ]
  },
  {
   "cell_type": "markdown",
   "metadata": {
    "tags": [
     "papermill-error-cell-tag"
    ]
   },
   "source": [
    "<span id=\"papermill-error-cell\" style=\"color:red; font-family:Helvetica Neue, Helvetica, Arial, sans-serif; font-size:2em;\">Execution using papermill encountered an exception here and stopped:</span>"
   ]
  },
  {
   "cell_type": "code",
   "execution_count": 1,
   "metadata": {
    "execution": {
     "iopub.execute_input": "2021-01-05T13:37:24.624334Z",
     "iopub.status.busy": "2021-01-05T13:37:24.623333Z",
     "iopub.status.idle": "2021-01-05T13:38:13.695942Z",
     "shell.execute_reply": "2021-01-05T13:38:13.695942Z"
    },
    "papermill": {
     "duration": 49.09661,
     "end_time": "2021-01-05T13:38:13.696946",
     "exception": true,
     "start_time": "2021-01-05T13:37:24.600336",
     "status": "failed"
    },
    "tags": []
   },
   "outputs": [
    {
     "ename": "ModuleNotFoundError",
     "evalue": "No module named 'theano.tensor.random'",
     "output_type": "error",
     "traceback": [
      "\u001b[1;31m---------------------------------------------------------------------------\u001b[0m",
      "\u001b[1;31mModuleNotFoundError\u001b[0m                       Traceback (most recent call last)",
      "\u001b[1;32m<ipython-input-1-c5e199dcfbf2>\u001b[0m in \u001b[0;36m<module>\u001b[1;34m\u001b[0m\n\u001b[0;32m      5\u001b[0m \u001b[1;32mimport\u001b[0m \u001b[0mseaborn\u001b[0m \u001b[1;32mas\u001b[0m \u001b[0msns\u001b[0m\u001b[1;33m\u001b[0m\u001b[1;33m\u001b[0m\u001b[0m\n\u001b[0;32m      6\u001b[0m \u001b[1;32mimport\u001b[0m \u001b[0mnumpy\u001b[0m \u001b[1;32mas\u001b[0m \u001b[0mnp\u001b[0m\u001b[1;33m\u001b[0m\u001b[1;33m\u001b[0m\u001b[0m\n\u001b[1;32m----> 7\u001b[1;33m \u001b[1;32mfrom\u001b[0m \u001b[0mmetadPy\u001b[0m \u001b[1;32mimport\u001b[0m \u001b[0msdt\u001b[0m\u001b[1;33m\u001b[0m\u001b[1;33m\u001b[0m\u001b[0m\n\u001b[0m\u001b[0;32m      8\u001b[0m \u001b[1;32mfrom\u001b[0m \u001b[0mmetadPy\u001b[0m\u001b[1;33m.\u001b[0m\u001b[0mutils\u001b[0m \u001b[1;32mimport\u001b[0m \u001b[0mtrials2counts\u001b[0m\u001b[1;33m,\u001b[0m \u001b[0mdiscreteRatings\u001b[0m\u001b[1;33m\u001b[0m\u001b[1;33m\u001b[0m\u001b[0m\n\u001b[0;32m      9\u001b[0m \u001b[1;32mfrom\u001b[0m \u001b[0mmetadPy\u001b[0m\u001b[1;33m.\u001b[0m\u001b[0mplotting\u001b[0m \u001b[1;32mimport\u001b[0m \u001b[0mplot_confidence\u001b[0m\u001b[1;33m\u001b[0m\u001b[1;33m\u001b[0m\u001b[0m\n",
      "\u001b[1;32mC:\\ProgramData\\Anaconda3\\lib\\site-packages\\metadPy\\__init__.py\u001b[0m in \u001b[0;36m<module>\u001b[1;34m\u001b[0m\n\u001b[1;32m----> 1\u001b[1;33m \u001b[1;32mfrom\u001b[0m \u001b[1;33m.\u001b[0m\u001b[0mhierarchical\u001b[0m \u001b[1;32mimport\u001b[0m \u001b[1;33m*\u001b[0m\u001b[1;33m\u001b[0m\u001b[1;33m\u001b[0m\u001b[0m\n\u001b[0m\u001b[0;32m      2\u001b[0m \u001b[1;32mfrom\u001b[0m \u001b[1;33m.\u001b[0m\u001b[0mplotting\u001b[0m \u001b[1;32mimport\u001b[0m \u001b[1;33m*\u001b[0m\u001b[1;33m\u001b[0m\u001b[1;33m\u001b[0m\u001b[0m\n\u001b[0;32m      3\u001b[0m \u001b[1;32mfrom\u001b[0m \u001b[1;33m.\u001b[0m\u001b[0msdt\u001b[0m \u001b[1;32mimport\u001b[0m \u001b[1;33m*\u001b[0m\u001b[1;33m\u001b[0m\u001b[1;33m\u001b[0m\u001b[0m\n\u001b[0;32m      4\u001b[0m \u001b[1;32mfrom\u001b[0m \u001b[1;33m.\u001b[0m\u001b[0mutils\u001b[0m \u001b[1;32mimport\u001b[0m \u001b[1;33m*\u001b[0m\u001b[1;33m\u001b[0m\u001b[1;33m\u001b[0m\u001b[0m\n\u001b[0;32m      5\u001b[0m \u001b[1;32mfrom\u001b[0m \u001b[1;33m.\u001b[0m\u001b[0mdatasets\u001b[0m \u001b[1;32mimport\u001b[0m \u001b[1;33m*\u001b[0m\u001b[1;33m\u001b[0m\u001b[1;33m\u001b[0m\u001b[0m\n",
      "\u001b[1;32mC:\\ProgramData\\Anaconda3\\lib\\site-packages\\metadPy\\hierarchical.py\u001b[0m in \u001b[0;36m<module>\u001b[1;34m\u001b[0m\n\u001b[0;32m      6\u001b[0m \u001b[1;33m\u001b[0m\u001b[0m\n\u001b[0;32m      7\u001b[0m \u001b[1;32mimport\u001b[0m \u001b[0mnumpy\u001b[0m \u001b[1;32mas\u001b[0m \u001b[0mnp\u001b[0m\u001b[1;33m\u001b[0m\u001b[1;33m\u001b[0m\u001b[0m\n\u001b[1;32m----> 8\u001b[1;33m \u001b[1;32mfrom\u001b[0m \u001b[0mtheano\u001b[0m\u001b[1;33m.\u001b[0m\u001b[0mcompile\u001b[0m\u001b[1;33m.\u001b[0m\u001b[0mops\u001b[0m \u001b[1;32mimport\u001b[0m \u001b[0mOutputGuard\u001b[0m\u001b[1;33m\u001b[0m\u001b[1;33m\u001b[0m\u001b[0m\n\u001b[0m\u001b[0;32m      9\u001b[0m \u001b[1;33m\u001b[0m\u001b[0m\n\u001b[0;32m     10\u001b[0m \u001b[1;32mfrom\u001b[0m \u001b[0mmetadPy\u001b[0m\u001b[1;33m.\u001b[0m\u001b[0msdt\u001b[0m \u001b[1;32mimport\u001b[0m \u001b[0mcriterion\u001b[0m\u001b[1;33m,\u001b[0m \u001b[0mdprime\u001b[0m\u001b[1;33m\u001b[0m\u001b[1;33m\u001b[0m\u001b[0m\n",
      "\u001b[1;32mC:\\ProgramData\\Anaconda3\\lib\\site-packages\\theano\\__init__.py\u001b[0m in \u001b[0;36m<module>\u001b[1;34m\u001b[0m\n\u001b[0;32m    186\u001b[0m     \u001b[0mi\u001b[0m\u001b[1;33m.\u001b[0m\u001b[0me\u001b[0m\u001b[1;33m.\u001b[0m \u001b[0ma_tensor_var\u001b[0m\u001b[1;33m[\u001b[0m\u001b[0man_int_vector\u001b[0m\u001b[1;33m]\u001b[0m\u001b[1;33m.\u001b[0m\u001b[1;33m\u001b[0m\u001b[1;33m\u001b[0m\u001b[0m\n\u001b[0;32m    187\u001b[0m \u001b[1;33m\u001b[0m\u001b[0m\n\u001b[1;32m--> 188\u001b[1;33m     \u001b[1;33m.\u001b[0m\u001b[1;33m.\u001b[0m \u001b[0mversionadded\u001b[0m\u001b[1;33m:\u001b[0m\u001b[1;33m:\u001b[0m \u001b[1;36m0.6\u001b[0m\u001b[0mrc4\u001b[0m\u001b[1;33m\u001b[0m\u001b[1;33m\u001b[0m\u001b[0m\n\u001b[0m\u001b[0;32m    189\u001b[0m     \"\"\"\n\u001b[0;32m    190\u001b[0m     \u001b[1;32massert\u001b[0m \u001b[0misinstance\u001b[0m\u001b[1;33m(\u001b[0m\u001b[0mvar\u001b[0m\u001b[1;33m.\u001b[0m\u001b[0mowner\u001b[0m\u001b[1;33m.\u001b[0m\u001b[0mop\u001b[0m\u001b[1;33m,\u001b[0m \u001b[0mtensor\u001b[0m\u001b[1;33m.\u001b[0m\u001b[0mAdvancedSubtensor1\u001b[0m\u001b[1;33m)\u001b[0m\u001b[1;33m\u001b[0m\u001b[1;33m\u001b[0m\u001b[0m\n",
      "\u001b[1;31mModuleNotFoundError\u001b[0m: No module named 'theano.tensor.random'"
     ]
    }
   ],
   "source": [
    "import os\n",
    "import pandas as pd\n",
    "import matplotlib.pyplot as plt\n",
    "from scipy.stats import norm\n",
    "import seaborn as sns\n",
    "import numpy as np\n",
    "from metadPy import sdt\n",
    "from metadPy.utils import trials2counts, discreteRatings\n",
    "from metadPy.plotting import plot_confidence\n",
    "from systole.detection import oxi_peaks\n",
    "\n",
    "sns.set_context('talk')\n",
    "%matplotlib inline"
   ]
  },
  {
   "cell_type": "markdown",
   "metadata": {
    "papermill": {
     "duration": null,
     "end_time": null,
     "exception": null,
     "start_time": null,
     "status": "pending"
    },
    "tags": []
   },
   "source": [
    "# Heart Rate Discrimination task - Summary results"
   ]
  },
  {
   "cell_type": "markdown",
   "metadata": {
    "papermill": {
     "duration": null,
     "end_time": null,
     "exception": null,
     "start_time": null,
     "status": "pending"
    },
    "tags": []
   },
   "source": [
    "This notebook introduces basic analysis steps, plots and quality check for the **Heart Rate Discrimination task**. The current version use data from a young and healthy participant tested with the default task parameters implemented in the `launcher.py` file (80 trials per condition, 30 using a 1-Up/1-Down staircase and 50 using the Psi method.\n",
    "\n",
    "The `path` variable can be adapted to load new data. The target directory should include the following files output by the task: `final.txt`, containing the behavioural data, `Intero_posterior.npy` and `Extero_posterior.npy`, containing the posterior estimates and `signal.txt` for the PPG signal time series.\n",
    "\n",
    "You can also use this notebook as a template to generate individual reports of groups of participants (see `reports.py`).\n",
    "\n",
    "For group-level summary statistics, please refer to `HRDgroupLevel.ipynb`."
   ]
  },
  {
   "cell_type": "markdown",
   "metadata": {
    "papermill": {
     "duration": null,
     "end_time": null,
     "exception": null,
     "start_time": null,
     "status": "pending"
    },
    "tags": []
   },
   "source": [
    "**Import data**"
   ]
  },
  {
   "cell_type": "code",
   "execution_count": null,
   "metadata": {
    "papermill": {
     "duration": null,
     "end_time": null,
     "exception": null,
     "start_time": null,
     "status": "pending"
    },
    "tags": [
     "parameters"
    ]
   },
   "outputs": [],
   "source": [
    "path = 'C:/Users/au646069/ECG/1_VPN_aux/'\n",
    "subject = 'sub_0245'"
   ]
  },
  {
   "cell_type": "code",
   "execution_count": null,
   "metadata": {
    "papermill": {
     "duration": null,
     "end_time": null,
     "exception": null,
     "start_time": null,
     "status": "pending"
    },
    "tags": [
     "injected-parameters"
    ]
   },
   "outputs": [],
   "source": [
    "# Parameters\n",
    "subject = \"sub_0032\"\n",
    "path = \"C:/Users/au646069/ECG/1_VPN_aux/\"\n"
   ]
  },
  {
   "cell_type": "code",
   "execution_count": null,
   "metadata": {
    "papermill": {
     "duration": null,
     "end_time": null,
     "exception": null,
     "start_time": null,
     "status": "pending"
    },
    "tags": []
   },
   "outputs": [],
   "source": [
    "resultsFiles = os.listdir(os.path.join(path, subject, 'HRD'))"
   ]
  },
  {
   "cell_type": "code",
   "execution_count": null,
   "metadata": {
    "papermill": {
     "duration": null,
     "end_time": null,
     "exception": null,
     "start_time": null,
     "status": "pending"
    },
    "tags": []
   },
   "outputs": [],
   "source": [
    "# Logs dataframe\n",
    "df = pd.read_csv(os.path.join(path, subject, 'HRD', [file for file in resultsFiles if file.endswith('final.txt')][0]))\n",
    "\n",
    "# History of posteriors distribution\n",
    "interoPost = np.load(os.path.join(path, subject, 'HRD', [file for file in resultsFiles if file.endswith('Intero_posterior.npy')][0]))\n",
    "exteroPost = np.load(os.path.join(path, subject, 'HRD', [file for file in resultsFiles if file.endswith('Extero_posterior.npy')][0]))\n",
    "\n",
    "# PPG signal\n",
    "signal_df = pd.read_csv(os.path.join(path, subject, 'HRD', [file for file in resultsFiles if file.endswith('signal.txt')][0]))\n",
    "signal_df['Time'] = np.arange(0, len(signal_df))/1000 # Create time vector"
   ]
  },
  {
   "cell_type": "code",
   "execution_count": null,
   "metadata": {
    "papermill": {
     "duration": null,
     "end_time": null,
     "exception": null,
     "start_time": null,
     "status": "pending"
    },
    "tags": []
   },
   "outputs": [],
   "source": [
    "df = df[df.RatingProvided == 1]\n",
    "df['DecisionRT'] = df['EstimationRT']\n",
    "df['Decision'] = df['Estimation']\n",
    "df['TrialType'] = df['StairCond']"
   ]
  },
  {
   "cell_type": "code",
   "execution_count": null,
   "metadata": {
    "papermill": {
     "duration": null,
     "end_time": null,
     "exception": null,
     "start_time": null,
     "status": "pending"
    },
    "tags": []
   },
   "outputs": [],
   "source": [
    "this_df = df[df.Modality=='Intero']\n",
    "sum(this_df.StairCond == 'psi'), sum(this_df.StairCond == 'psiCatchTrial'), sum(this_df.StairCond == 'low'), sum(this_df.StairCond == 'high')"
   ]
  },
  {
   "cell_type": "markdown",
   "metadata": {
    "papermill": {
     "duration": null,
     "end_time": null,
     "exception": null,
     "start_time": null,
     "status": "pending"
    },
    "tags": []
   },
   "source": [
    "# Response time"
   ]
  },
  {
   "cell_type": "code",
   "execution_count": null,
   "metadata": {
    "papermill": {
     "duration": null,
     "end_time": null,
     "exception": null,
     "start_time": null,
     "status": "pending"
    },
    "tags": []
   },
   "outputs": [],
   "source": [
    "palette = ['#b55d60', '#5f9e6e']\n",
    "\n",
    "fig, axs = plt.subplots(1, 2, figsize=(13, 5))\n",
    "for i, task, title in zip([0, 1], ['DecisionRT', 'ConfidenceRT'], ['Decision', 'Confidence']):\n",
    "    sns.boxplot(data=df, x='Modality', y='DecisionRT', hue='ResponseCorrect',\n",
    "                palette=palette, width=.15, notch=True, ax=axs[i])\n",
    "    sns.stripplot(data=df, x='Modality', y='DecisionRT', hue='ResponseCorrect',\n",
    "                  dodge=True, linewidth=1, size=6, palette=palette, alpha=.6, ax=axs[i])\n",
    "    axs[i].set_title(title)\n",
    "    axs[i].set_ylabel('Response Time (s)')\n",
    "    axs[i].set_xlabel('')\n",
    "    axs[i].get_legend().remove()\n",
    "sns.despine(trim=10)\n",
    "\n",
    "handles, labels = axs[0].get_legend_handles_labels()\n",
    "plt.legend(handles[0:2], ['Incorrect', 'Correct'], bbox_to_anchor=(1.05, .5), loc=2, borderaxespad=0.)"
   ]
  },
  {
   "cell_type": "markdown",
   "metadata": {
    "papermill": {
     "duration": null,
     "end_time": null,
     "exception": null,
     "start_time": null,
     "status": "pending"
    },
    "tags": []
   },
   "source": [
    "Response time distribution for the decision and the confidence rating phases for correct (red) and incorrect (green) responses."
   ]
  },
  {
   "cell_type": "markdown",
   "metadata": {
    "papermill": {
     "duration": null,
     "end_time": null,
     "exception": null,
     "start_time": null,
     "status": "pending"
    },
    "tags": []
   },
   "source": [
    "# Metacognition"
   ]
  },
  {
   "cell_type": "markdown",
   "metadata": {
    "papermill": {
     "duration": null,
     "end_time": null,
     "exception": null,
     "start_time": null,
     "status": "pending"
    },
    "tags": []
   },
   "source": [
    "SDT estimate for decision 1 perforamces (d' and criterion)"
   ]
  },
  {
   "cell_type": "code",
   "execution_count": null,
   "metadata": {
    "papermill": {
     "duration": null,
     "end_time": null,
     "exception": null,
     "start_time": null,
     "status": "pending"
    },
    "tags": []
   },
   "outputs": [],
   "source": [
    "for i, cond in enumerate(['Intero', 'Extero']):\n",
    "    this_df = df[df.Modality == cond].copy()\n",
    "    this_df['signal'] = (this_df.responseBPM > this_df.listenBPM)\n",
    "    this_df['responses'] = (this_df.Decision == 'More')\n",
    "\n",
    "    hit, miss, fa, cr = sdt.scores(data=this_df, stimuli='signal')\n",
    "    hr, far = sdt.rates(hits=hit, misses=miss, fas=fa, crs=cr)\n",
    "    d, c = sdt.dprime(hit_rate=hr, fa_rate=far), sdt.criterion(hit_rate=hr, fa_rate=far)\n",
    "    \n",
    "    print(f'Condition: {cond} - d-prime: {d} - criterion: {c}')"
   ]
  },
  {
   "cell_type": "code",
   "execution_count": null,
   "metadata": {
    "papermill": {
     "duration": null,
     "end_time": null,
     "exception": null,
     "start_time": null,
     "status": "pending"
    },
    "tags": []
   },
   "outputs": [],
   "source": [
    "fig, axs = plt.subplots(1, 2, figsize=(13, 5))\n",
    "\n",
    "for i, cond in enumerate(['Intero', 'Extero']):\n",
    "    try:\n",
    "        this_df = df[df.Modality == cond]\n",
    "        this_df = this_df[~this_df.Confidence.isnull()]\n",
    "        new_confidence, _ = discreteRatings(this_df.Confidence)\n",
    "        this_df['Confidence'] = new_confidence\n",
    "        this_df['Stimuli'] = (this_df.Alpha > 0).astype('int')\n",
    "        this_df['Responses'] = (this_df.Decision == 'More').astype('int')\n",
    "        nR_S1, nR_S2 = trials2counts(data=this_df)\n",
    "        plot_confidence(nR_S1, nR_S2, ax=axs[i])\n",
    "        axs[i].set_title(f'{cond} condition')\n",
    "    except:\n",
    "        print('Bab bins')\n",
    "sns.despine()\n",
    "plt.tight_layout()"
   ]
  },
  {
   "cell_type": "markdown",
   "metadata": {
    "papermill": {
     "duration": null,
     "end_time": null,
     "exception": null,
     "start_time": null,
     "status": "pending"
    },
    "tags": []
   },
   "source": [
    "Distribution of confidence ratings for correct (green) and incorrect (red) trials. Overlapping distribution suggests that the subjective confidence in the decision was not predictive of decision performances."
   ]
  },
  {
   "cell_type": "markdown",
   "metadata": {
    "papermill": {
     "duration": null,
     "end_time": null,
     "exception": null,
     "start_time": null,
     "status": "pending"
    },
    "tags": []
   },
   "source": [
    "# Psychophysics"
   ]
  },
  {
   "cell_type": "markdown",
   "metadata": {
    "papermill": {
     "duration": null,
     "end_time": null,
     "exception": null,
     "start_time": null,
     "status": "pending"
    },
    "tags": []
   },
   "source": [
    "Distribution of the intensities values tested by each staircases (Intero and Extero)."
   ]
  },
  {
   "cell_type": "code",
   "execution_count": null,
   "metadata": {
    "papermill": {
     "duration": null,
     "end_time": null,
     "exception": null,
     "start_time": null,
     "status": "pending"
    },
    "tags": []
   },
   "outputs": [],
   "source": [
    "fig, axs = plt.subplots(1, 1, figsize=(8, 5))\n",
    "\n",
    "for cond, col in zip(['Intero', 'Extero'], ['#c44e52', '#4c72b0']):\n",
    "    this_df = df[df.Modality == cond]\n",
    "    axs.hist(this_df.Alpha, color=col, bins=np.arange(-40.5, 40.5, 5), histtype='stepfilled',\n",
    "             ec=\"k\", density=True, align='mid', label=cond, alpha=.6)\n",
    "axs.set_title('Distribution of the tested intensities values')\n",
    "axs.set_xlabel('Intensity (BPM)')\n",
    "plt.legend()\n",
    "sns.despine(trim=10)\n",
    "plt.tight_layout()"
   ]
  },
  {
   "cell_type": "markdown",
   "metadata": {
    "papermill": {
     "duration": null,
     "end_time": null,
     "exception": null,
     "start_time": null,
     "status": "pending"
    },
    "tags": []
   },
   "source": [
    "## Threshold"
   ]
  },
  {
   "cell_type": "markdown",
   "metadata": {
    "papermill": {
     "duration": null,
     "end_time": null,
     "exception": null,
     "start_time": null,
     "status": "pending"
    },
    "tags": []
   },
   "source": [
    "### Up/Down stairecases"
   ]
  },
  {
   "cell_type": "code",
   "execution_count": null,
   "metadata": {
    "papermill": {
     "duration": null,
     "end_time": null,
     "exception": null,
     "start_time": null,
     "status": "pending"
    },
    "tags": []
   },
   "outputs": [],
   "source": [
    "if sum(this_df.StairCond == 'UpDown') > 0:\n",
    "\n",
    "    fig, axs = plt.subplots(figsize=(15, 5), nrows=1, ncols=2)\n",
    "\n",
    "    # Staircase traces\n",
    "    for i, cond, col in zip([0, 1], ['Intero', 'Extero'], ['#c44e52', '#4c72b0']):\n",
    "        this_df = df[(df.Modality == cond) & (df.TrialType == 'UpDown')]\n",
    "\n",
    "        axs[i].plot(np.arange(0, len(this_df))[this_df.StairCond == 'high'], \n",
    "                        this_df.Alpha[this_df.StairCond == 'high'], linestyle='--', color=col, linewidth=2)\n",
    "        axs[i].plot(np.arange(0, len(this_df))[this_df.StairCond == 'low'], \n",
    "                        this_df.Alpha[this_df.StairCond == 'low'], linestyle='-', color=col, linewidth=2)\n",
    "\n",
    "        axs[i].plot(np.arange(0, len(this_df))[this_df.Decision == 'More'], \n",
    "                        this_df.Alpha[this_df.Decision == 'More'], col, marker='o', linestyle='', markeredgecolor='k', label=cond)\n",
    "        axs[i].plot(np.arange(0, len(this_df))[this_df.Decision == 'Less'], \n",
    "                        this_df.Alpha[this_df.Decision == 'Less'], 'w', marker='s', linestyle='', markeredgecolor=col, label=cond)\n",
    "\n",
    "        axs[i].axhline(y=0, linestyle='--', color = 'gray')\n",
    "        handles, labels = axs[i].get_legend_handles_labels()\n",
    "        axs[i].legend(handles[0:2], ['More', 'Less'], borderaxespad=0., title='Decision')\n",
    "        axs[i].set_ylabel('Intensity ($\\Delta$ BPM)')\n",
    "        axs[i].set_xlabel('Trials')\n",
    "        axs[i].set_ylim(-42, 42)\n",
    "        axs[i].set_title(cond+'ception')\n",
    "        sns.despine(trim=10, ax=axs[i])\n",
    "        plt.gcf()"
   ]
  },
  {
   "cell_type": "markdown",
   "metadata": {
    "papermill": {
     "duration": null,
     "end_time": null,
     "exception": null,
     "start_time": null,
     "status": "pending"
    },
    "tags": []
   },
   "source": [
    "### Psi"
   ]
  },
  {
   "cell_type": "code",
   "execution_count": null,
   "metadata": {
    "papermill": {
     "duration": null,
     "end_time": null,
     "exception": null,
     "start_time": null,
     "status": "pending"
    },
    "tags": []
   },
   "outputs": [],
   "source": [
    "if sum(this_df.TrialType == 'psi') > 0:\n",
    "\n",
    "    fig, axs = plt.subplots(figsize=(15, 5), nrows=1, ncols=2)\n",
    "\n",
    "    # Plot confidence interval for each staircase\n",
    "    def ci(x):\n",
    "        return np.where(np.cumsum(x) / np.sum(x) > .025)[0][0], \\\n",
    "               np.where(np.cumsum(x) / np.sum(x) < .975)[0][-1]\n",
    "\n",
    "    for i, stair, col in zip([0, 1], [interoPost, exteroPost], ['#c44e52', '#4c72b0']):\n",
    "        ciUp, ciLow = [], []\n",
    "        for t in range(stair.shape[0]):\n",
    "            up, low = ci(stair.mean(2)[t])\n",
    "            ciUp.append(np.arange(-40.5, 40.5)[up])\n",
    "            ciLow.append(np.arange(-40.5, 40.5)[low])\n",
    "        axs[i].fill_between(x=np.arange(len(ciLow)),\n",
    "                            y1=ciLow,\n",
    "                            y2=ciUp,\n",
    "                            color=col, alpha=.2)\n",
    "\n",
    "    # Staircase traces\n",
    "    for i, cond, col in zip([0, 1], ['Intero', 'Extero'], ['#c44e52', '#4c72b0']):\n",
    "        this_df = df[(df.Modality == cond) & (df.TrialType != 'UpDown')]\n",
    "\n",
    "        # Show UpDown staircase traces\n",
    "        axs[i].plot(np.arange(0, len(this_df))[this_df.StairCond == 'high'], \n",
    "                        this_df.Alpha[this_df.StairCond == 'high'], linestyle='--', color=col, linewidth=2)\n",
    "        axs[i].plot(np.arange(0, len(this_df))[this_df.StairCond == 'low'], \n",
    "                        this_df.Alpha[this_df.StairCond == 'low'], linestyle='-', color=col, linewidth=2)\n",
    "\n",
    "        axs[i].plot(np.arange(0, len(this_df))[this_df.Decision == 'More'], \n",
    "                        this_df.Alpha[this_df.Decision == 'More'], col, marker='o', linestyle='', markeredgecolor='k', label=cond)\n",
    "        axs[i].plot(np.arange(0, len(this_df))[this_df.Decision == 'Less'], \n",
    "                        this_df.Alpha[this_df.Decision == 'Less'], 'w', marker='s', linestyle='', markeredgecolor=col, label=cond)\n",
    "\n",
    "        # Trheshold estimate\n",
    "        axs[i].plot(np.arange(sum(this_df.StairCond != 'psi'), len(this_df)), this_df[this_df.StairCond == 'psi'].EstimatedThreshold, linestyle='-', color=col, linewidth=4)\n",
    "        axs[i].plot(np.arange(0, sum(this_df.StairCond != 'psi')), this_df[this_df.StairCond != 'psi'].EstimatedThreshold, linestyle='--', color=col, linewidth=2, alpha=.3)\n",
    "\n",
    "        axs[i].axhline(y=0, linestyle='--', color = 'gray')\n",
    "        handles, labels = axs[i].get_legend_handles_labels()\n",
    "        axs[i].legend(handles[0:2], ['More', 'Less'], borderaxespad=0., title='Decision')\n",
    "        axs[i].set_ylabel('Intensity ($\\Delta$ BPM)')\n",
    "        axs[i].set_xlabel('Trials')\n",
    "        axs[i].set_ylim(-42, 42)\n",
    "        axs[i].set_title(cond+'ception')\n",
    "        sns.despine(trim=10, ax=axs[i])\n",
    "        plt.gcf()"
   ]
  },
  {
   "cell_type": "markdown",
   "metadata": {
    "papermill": {
     "duration": null,
     "end_time": null,
     "exception": null,
     "start_time": null,
     "status": "pending"
    },
    "tags": []
   },
   "source": [
    "This figure represents the evolution of threshold estimate across trials for the Interoception and Exteroception condition. Shaded areas represent the 95% confidence interval of the threshold estimate by Psi. For each condition, the first 30 trials (connected with dashed lines) were allocated to an Up/Down method (2 interleaved staircases starting a -40.5 or 40 respectively). The intensities and responses were included in the Psi staircase to maximize the amount of information included. The remaining 50 trials were monitored by the Psi staircase only. This dual estimation was implemented to estimate the reliability of the estimation of threshold using an up/down procedure, as compared to a longer psi procedure."
   ]
  },
  {
   "cell_type": "markdown",
   "metadata": {
    "papermill": {
     "duration": null,
     "end_time": null,
     "exception": null,
     "start_time": null,
     "status": "pending"
    },
    "tags": []
   },
   "source": [
    "## Psychometric function"
   ]
  },
  {
   "cell_type": "code",
   "execution_count": null,
   "metadata": {
    "papermill": {
     "duration": null,
     "end_time": null,
     "exception": null,
     "start_time": null,
     "status": "pending"
    },
    "tags": []
   },
   "outputs": [],
   "source": [
    "sns.set_context('talk')\n",
    "fig, axs = plt.subplots(figsize=(8, 5))\n",
    "for i, modality, col in zip((0, 1), ['Extero', 'Intero'], ['#4c72b0', '#c44e52']):\n",
    "    \n",
    "    this_df = df[(df.Modality == modality) & (df.TrialType == 'psi')]\n",
    "\n",
    "    t, s = this_df.EstimatedThreshold.iloc[-1], this_df.EstimatedSlope.iloc[-1]\n",
    "    # Plot Psi estimate of psychometric function\n",
    "    axs.plot(np.linspace(-40, 40, 500), \n",
    "            (norm.cdf(np.linspace(-40, 40, 500), loc=t, scale=s)),\n",
    "            '--', color=col, label=modality)\n",
    "    # Plot threshold\n",
    "    axs.plot([t, t], [0, .5], color=col, linewidth=2)\n",
    "    axs.plot(t, .5, 'o', color=col, markersize=10)\n",
    "\n",
    "    # Plot data points\n",
    "    for ii, intensity in enumerate(np.sort(this_df.Alpha.unique())):\n",
    "        resp = sum((this_df.Alpha == intensity) & (this_df.Decision == 'More'))\n",
    "        total = sum(this_df.Alpha == intensity)\n",
    "        axs.plot(intensity, resp/total, 'o', alpha=0.5, color=col, markeredgecolor='k', markersize=total*5)\n",
    "plt.ylabel('P$_{(Response = More|Intensity)}$')\n",
    "plt.xlabel('Intensity ($\\Delta$ BPM)')\n",
    "plt.tight_layout()\n",
    "plt.legend()\n",
    "sns.despine()"
   ]
  },
  {
   "cell_type": "markdown",
   "metadata": {
    "papermill": {
     "duration": null,
     "end_time": null,
     "exception": null,
     "start_time": null,
     "status": "pending"
    },
    "tags": []
   },
   "source": [
    "Psychometric curves fitted using the estimated threshod and slope from the psi staircase after 80 trials for each condition. We only keeped the value estimated in the last trial. The size of the circles reflect the proportion of trial for each intensity level."
   ]
  },
  {
   "cell_type": "markdown",
   "metadata": {
    "papermill": {
     "duration": null,
     "end_time": null,
     "exception": null,
     "start_time": null,
     "status": "pending"
    },
    "tags": []
   },
   "source": [
    "# Pulse oximeter"
   ]
  },
  {
   "cell_type": "markdown",
   "metadata": {
    "papermill": {
     "duration": null,
     "end_time": null,
     "exception": null,
     "start_time": null,
     "status": "pending"
    },
    "tags": []
   },
   "source": [
    "## Visualization of PPG signal"
   ]
  },
  {
   "cell_type": "markdown",
   "metadata": {
    "papermill": {
     "duration": null,
     "end_time": null,
     "exception": null,
     "start_time": null,
     "status": "pending"
    },
    "tags": []
   },
   "source": [
    "This interactive graph show the PPG signal recorded at each interoceptive trial. Blue and red time series represent different trials of 6 seconds each. The 5 last seconds were used to estimate the average heart rate of the participant, the first second was included to help peak detection algorithm initialization."
   ]
  },
  {
   "cell_type": "code",
   "execution_count": null,
   "metadata": {
    "papermill": {
     "duration": null,
     "end_time": null,
     "exception": null,
     "start_time": null,
     "status": "pending"
    },
    "tags": []
   },
   "outputs": [],
   "source": [
    "meanBPM, stdBPM, rangeBPM = [], [], []\n",
    "\n",
    "fig, ax = plt.subplots(nrows=2, sharex=True, figsize=(30, 10))\n",
    "for i, trial in enumerate(signal_df.nTrial.unique()[:int(signal_df.nTrial.nunique()/2)]):\n",
    "    color = '#c44e52' if (i % 2) == 0 else '#4c72b0'\n",
    "    this_df = signal_df[signal_df.nTrial==trial]  # Downsample to save memory\n",
    "    ax[0].plot(this_df.Time, this_df.signal, label='PPG', color=color, linewidth=.5)\n",
    "\n",
    "    # Peaks detection\n",
    "    signal, peaks = oxi_peaks(this_df.signal, sfreq=1000)\n",
    "    bpm = 60000/np.diff(np.where(peaks[-5000:])[0])\n",
    "    m, s, r = bpm.mean(), bpm.std(), bpm.max() - bpm.min()\n",
    "    meanBPM.append(m)\n",
    "    stdBPM.append(s)\n",
    "    rangeBPM.append(r)\n",
    "    \n",
    "    # Plot instantaneous heart rate\n",
    "    ax[1].plot(this_df.Time.to_numpy()[np.where(peaks)[0][1:]], \n",
    "               60000/np.diff(np.where(peaks)[0]),\n",
    "              'o-', color='gray', alpha=0.6)\n",
    "    \n",
    "ax[1].set_xlabel(\"Time (s)\")\n",
    "ax[0].set_ylabel(\"PPG level (a.u.)\")\n",
    "ax[1].set_ylabel(\"Heart rate (BPM)\")\n",
    "ax[0].set_title(\"PPG signal recorded during interoceptive condition (5 seconds each)\")\n",
    "sns.despine()"
   ]
  },
  {
   "cell_type": "code",
   "execution_count": null,
   "metadata": {
    "papermill": {
     "duration": null,
     "end_time": null,
     "exception": null,
     "start_time": null,
     "status": "pending"
    },
    "tags": []
   },
   "outputs": [],
   "source": [
    "fig, ax = plt.subplots(nrows=2, sharex=True, figsize=(30, 10))\n",
    "for i, trial in enumerate(signal_df.nTrial.unique()[int(signal_df.nTrial.nunique()/2):]):\n",
    "    color = '#c44e52' if (i % 2) == 0 else '#4c72b0'\n",
    "    this_df = signal_df[signal_df.nTrial==trial]  # Downsample to save memory\n",
    "    ax[0].plot(this_df.Time, this_df.signal, label='PPG', color=color, linewidth=.5)\n",
    "\n",
    "    # Peaks detection\n",
    "    signal, peaks = oxi_peaks(this_df.signal, sfreq=1000)\n",
    "    bpm = 60000/np.diff(np.where(peaks[-5000:])[0])\n",
    "    m, s, r = bpm.mean(), bpm.std(), bpm.max() - bpm.min()\n",
    "    meanBPM.append(m)\n",
    "    stdBPM.append(s)\n",
    "    rangeBPM.append(r)\n",
    "    \n",
    "    # Plot instantaneous heart rate\n",
    "    ax[1].plot(this_df.Time.to_numpy()[np.where(peaks)[0][1:]], \n",
    "               60000/np.diff(np.where(peaks)[0]),\n",
    "              'o-', color='gray', alpha=0.6)\n",
    "    \n",
    "ax[1].set_xlabel(\"Time (s)\")\n",
    "ax[0].set_ylabel(\"PPG level (a.u.)\")\n",
    "ax[1].set_ylabel(\"Heart rate (BPM)\")\n",
    "ax[0].set_title(\"PPG signal recorded during interoceptive condition (5 seconds each)\")\n",
    "sns.despine()"
   ]
  },
  {
   "cell_type": "markdown",
   "metadata": {
    "papermill": {
     "duration": null,
     "end_time": null,
     "exception": null,
     "start_time": null,
     "status": "pending"
    },
    "tags": []
   },
   "source": [
    "## Heart rate - Summary statistics"
   ]
  },
  {
   "cell_type": "markdown",
   "metadata": {
    "papermill": {
     "duration": null,
     "end_time": null,
     "exception": null,
     "start_time": null,
     "status": "pending"
    },
    "tags": []
   },
   "source": [
    "This figure show the evolution of the average and standard deviation of the instantaneous heart rate across time. An instantaneous frequnecy was derived between each peak detected in the PPG signal (also known as pulse-to-pulse intervals, or pseudo RR intervals). Rapid increase or decrease of the heart rate frequency can lead to larger standard deviation, and less accurate estimation of the average heart rate."
   ]
  },
  {
   "cell_type": "code",
   "execution_count": null,
   "metadata": {
    "papermill": {
     "duration": null,
     "end_time": null,
     "exception": null,
     "start_time": null,
     "status": "pending"
    },
    "tags": []
   },
   "outputs": [],
   "source": [
    "sns.set_context('talk')\n",
    "fig, axs = plt.subplots(figsize=(13, 5), nrows=2, ncols=2)\n",
    "for i, metric, col in zip(range(3), [meanBPM, stdBPM], ['#b55d60', '#5f9e6e']):\n",
    "    axs[i, 0].plot(metric, 'o-', color=col, alpha=.6)\n",
    "    axs[i, 1].hist(metric, color=col, bins=15, ec=\"k\", density=True, alpha=.6)\n",
    "    axs[i, 0].set_ylabel('Mean BPM' if i == 0 else 'STD BPM')\n",
    "    axs[i, 0].set_xlabel('Trials')\n",
    "    axs[i, 1].set_xlabel('BPM')\n",
    "sns.despine()\n",
    "plt.tight_layout()"
   ]
  },
  {
   "cell_type": "code",
   "execution_count": null,
   "metadata": {
    "papermill": {
     "duration": null,
     "end_time": null,
     "exception": null,
     "start_time": null,
     "status": "pending"
    },
    "tags": []
   },
   "outputs": [],
   "source": []
  }
 ],
 "metadata": {
  "kernelspec": {
   "display_name": "Python 3",
   "language": "python",
   "name": "python3"
  },
  "language_info": {
   "codemirror_mode": {
    "name": "ipython",
    "version": 3
   },
   "file_extension": ".py",
   "mimetype": "text/x-python",
   "name": "python",
   "nbconvert_exporter": "python",
   "pygments_lexer": "ipython3",
   "version": "3.7.6"
  },
  "papermill": {
   "default_parameters": {},
   "duration": 50.993903,
   "end_time": "2021-01-05T13:38:14.296166",
   "environment_variables": {},
   "exception": true,
   "input_path": "HeartRateDiscrimination.ipynb",
   "output_path": "C:/Users/au646069/github/CardioceptionPaper/reports/HRD/sub_0032.ipynb",
   "parameters": {
    "path": "C:/Users/au646069/ECG/1_VPN_aux/",
    "subject": "sub_0032"
   },
   "start_time": "2021-01-05T13:37:23.302263",
   "version": "2.2.2"
  }
 },
 "nbformat": 4,
 "nbformat_minor": 4
}