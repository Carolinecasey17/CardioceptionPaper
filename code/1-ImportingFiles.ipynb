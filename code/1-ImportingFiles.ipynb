{
 "cells": [
  {
   "cell_type": "markdown",
   "metadata": {},
   "source": [
    "Authors: Nicolas Legrand <nicolas.legrand@cfin.au.dk>"
   ]
  },
  {
   "cell_type": "code",
   "execution_count": 1,
   "metadata": {},
   "outputs": [],
   "source": [
    "import os\n",
    "import pandas as pd\n",
    "import seaborn as sns\n",
    "import matplotlib.pyplot as plt\n",
    "from summary import groupLevel"
   ]
  },
  {
   "cell_type": "markdown",
   "metadata": {},
   "source": [
    "This script will import raw data from AUX and build a local database containing only essential files for further preprocessing. You can select where to store these file by changing `localPath`."
   ]
  },
  {
   "cell_type": "code",
   "execution_count": 2,
   "metadata": {},
   "outputs": [],
   "source": [
    "path = os.path.abspath(os.path.join(os.getcwd(), os.pardir))\n",
    "datapath = 'C:/Users/au646069/ECG/1_VPN_aux/'\n",
    "subList = os.listdir(datapath)"
   ]
  },
  {
   "cell_type": "markdown",
   "metadata": {},
   "source": [
    "### Data quality\n",
    "\n",
    "**HRD**\n",
    "* Subject 44, 45, 46, 74, 141, 191, 249: data missing\n",
    "\n",
    "*Logs:*\n",
    "* Subject 27: rename file (28->27)\n",
    "* Subject 81: incorrect file name (081)\n",
    "* Subject 191, 223: data missing, but should be present\n",
    "\n",
    "*To remove:*\n",
    "* Subject 36: invalid responses -> remove\n",
    "* Subject 54: noisy PPG -> remove\n",
    "* Subject 67: invalid responses\n",
    "* Subject 84: bad confidence ratings -> remove\n",
    "* Subject 143: half of the task has invalid ppg signal\n",
    "\n",
    "**HBC**\n",
    "* Subject 160, 177, 202, 223: data missing\n",
    "\n",
    "*Logs:*\n",
    "* Subject 187: data missing but should be present.\n",
    "* Subject 21, 31, 44, 45, 49, 50, 62, 223: missing data?\n",
    "* Subject 25, 41: incomplete (crash?)\n",
    "\n",
    "**HRD2**\n",
    "* Subject 20, 21, 29, 30, 36, 40, 41, 43, 48, 51, 54, 55, 62, 69, 75, 77, 88, 91, 105, 110, 111, 129, 155, 158, 182, 199, 205, 221, 227, 239, 256: data missing\n",
    "\n",
    "*Logs:*\n",
    "* Subject 123: data missing but should be present.\n",
    "\n",
    "- Remove subject 139 (psychiatric symptoms)"
   ]
  },
  {
   "cell_type": "code",
   "execution_count": 3,
   "metadata": {},
   "outputs": [
    {
     "name": "stderr",
     "output_type": "stream",
     "text": [
      "C:\\ProgramData\\Anaconda3\\lib\\site-packages\\pandas\\core\\indexing.py:845: SettingWithCopyWarning: \n",
      "A value is trying to be set on a copy of a slice from a DataFrame.\n",
      "Try using .loc[row_indexer,col_indexer] = value instead\n",
      "\n",
      "See the caveats in the documentation: https://pandas.pydata.org/pandas-docs/stable/user_guide/indexing.html#returning-a-view-versus-a-copy\n",
      "  self.obj[key] = _infer_fill_value(value)\n",
      "C:\\ProgramData\\Anaconda3\\lib\\site-packages\\pandas\\core\\indexing.py:966: SettingWithCopyWarning: \n",
      "A value is trying to be set on a copy of a slice from a DataFrame.\n",
      "Try using .loc[row_indexer,col_indexer] = value instead\n",
      "\n",
      "See the caveats in the documentation: https://pandas.pydata.org/pandas-docs/stable/user_guide/indexing.html#returning-a-view-versus-a-copy\n",
      "  self.obj[item] = s\n"
     ]
    }
   ],
   "source": [
    "group_df, merged_df = groupLevel(datapath=datapath, subjects=subList, verbose=False)"
   ]
  },
  {
   "cell_type": "markdown",
   "metadata": {},
   "source": [
    "Drop bad data"
   ]
  },
  {
   "cell_type": "code",
   "execution_count": 4,
   "metadata": {},
   "outputs": [],
   "source": [
    "remove = ['sub_0036', 'sub_0054', 'sub_0067', 'sub_0084', 'sub_0139', 'sub_0143']\n",
    "for sub_rm in remove:\n",
    "    group_df = group_df[group_df.Subject != sub_rm]\n",
    "    merged_df = merged_df[merged_df.Subject != sub_rm]"
   ]
  },
  {
   "cell_type": "code",
   "execution_count": 5,
   "metadata": {},
   "outputs": [],
   "source": [
    "group_df = group_df[group_df.Session == 'Del1']\n",
    "group_df.to_csv(path + '/data/behavior.txt')\n",
    "merged_df = merged_df[merged_df.Session == 'Del1']\n",
    "merged_df.to_csv(path + '/data/merged.txt')"
   ]
  },
  {
   "cell_type": "markdown",
   "metadata": {},
   "source": [
    "## Task descriptive stats"
   ]
  },
  {
   "cell_type": "code",
   "execution_count": 6,
   "metadata": {},
   "outputs": [],
   "source": [
    "group_df = pd.read_csv(path + '/data/behavior.txt')"
   ]
  },
  {
   "cell_type": "code",
   "execution_count": 7,
   "metadata": {},
   "outputs": [
    {
     "name": "stdout",
     "output_type": "stream",
     "text": [
      "Number of participants: 213\n",
      "Del 1: 213\n"
     ]
    }
   ],
   "source": [
    "print(f'Number of participants: {len(group_df.Subject.unique())}')\n",
    "del1 = len(group_df[group_df.Session=='Del1'].Subject.unique())\n",
    "print(f'Del 1: {del1}')"
   ]
  },
  {
   "cell_type": "code",
   "execution_count": 8,
   "metadata": {},
   "outputs": [
    {
     "data": {
      "image/png": "[encoded data removed]",
      "text/plain": [
       "<Figure size 576x360 with 1 Axes>"
      ]
     },
     "metadata": {
      "needs_background": "light"
     },
     "output_type": "display_data"
    }
   ],
   "source": [
    "sns.set_context('talk')\n",
    "plt.figure(figsize=(8, 5))\n",
    "sns.histplot(data=group_df[group_df.Modality=='Intero'],\n",
    "             x='TaskDuration', hue='Session')\n",
    "plt.xlabel('Time (min)')\n",
    "plt.ylabel('HRD')\n",
    "sns.despine()"
   ]
  },
  {
   "cell_type": "code",
   "execution_count": 14,
   "metadata": {},
   "outputs": [
    {
     "name": "stdout",
     "output_type": "stream",
     "text": [
      "Task mean time: 31.38 min\n",
      "Task std time: 3.34 min\n",
      "Task max time: 42.46 min\n",
      "Task min time: 24.27 min\n"
     ]
    }
   ],
   "source": [
    "print(f'Task mean time: {round(group_df.TaskDuration.mean(), 2)} min')\n",
    "print(f'Task std time: {round(group_df.TaskDuration.std(), 2)} min')\n",
    "print(f'Task max time: {round(group_df.TaskDuration.max(), 2)} min')\n",
    "print(f'Task min time: {round(group_df.TaskDuration.min(), 2)} min')"
   ]
  },
  {
   "cell_type": "code",
   "execution_count": null,
   "metadata": {},
   "outputs": [],
   "source": []
  }
 ],
 "metadata": {
  "kernelspec": {
   "display_name": "Python 3",
   "language": "python",
   "name": "python3"
  },
  "language_info": {
   "codemirror_mode": {
    "name": "ipython",
    "version": 3
   },
   "file_extension": ".py",
   "mimetype": "text/x-python",
   "name": "python",
   "nbconvert_exporter": "python",
   "pygments_lexer": "ipython3",
   "version": "3.7.6"
  }
 },
 "nbformat": 4,
 "nbformat_minor": 4
}
