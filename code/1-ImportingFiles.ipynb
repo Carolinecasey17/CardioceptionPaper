{
 "cells": [
  {
   "cell_type": "markdown",
   "metadata": {},
   "source": [
    "Authors: Nicolas Legrand <nicolas.legrand@cfin.au.dk>"
   ]
  },
  {
   "cell_type": "code",
   "execution_count": 1,
   "metadata": {},
   "outputs": [],
   "source": [
    "import os\n",
    "import pandas as pd\n",
    "import numpy as np\n",
    "import seaborn as sns\n",
    "import matplotlib.pyplot as plt\n",
    "from metadPy import dprime, criterion"
   ]
  },
  {
   "cell_type": "markdown",
   "metadata": {},
   "source": [
    "# Generate reports and clean data"
   ]
  },
  {
   "cell_type": "markdown",
   "metadata": {},
   "source": [
    "Individual reports were generated using the following scripts (requires access to the raw data)."
   ]
  },
  {
   "cell_type": "code",
   "execution_count": 2,
   "metadata": {},
   "outputs": [],
   "source": [
    "#%%capture\n",
    "#!python reports_HRD.py\n",
    "#!python reports_HRD2.py"
   ]
  },
  {
   "cell_type": "markdown",
   "metadata": {},
   "source": [
    "# Del 1 "
   ]
  },
  {
   "cell_type": "code",
   "execution_count": 3,
   "metadata": {},
   "outputs": [],
   "source": [
    "datapath = os.path.join(\n",
    "    os.path.abspath(os.path.join(os.getcwd(), os.pardir)),\n",
    "    'data', 'raw', 'HRD')\n",
    "\n",
    "outputpath = os.path.join(\n",
    "    os.path.abspath(os.path.join(os.getcwd(), os.pardir)),\n",
    "    'data')\n",
    "session = 'Del1'\n",
    "subjects = os.listdir(datapath)"
   ]
  },
  {
   "cell_type": "markdown",
   "metadata": {},
   "source": [
    "After check the individual reports manually, it was decided to remove the following participants from the group analysis."
   ]
  },
  {
   "cell_type": "code",
   "execution_count": 4,
   "metadata": {},
   "outputs": [],
   "source": [
    "remove = ['sub_0036', 'sub_0041', 'sub_0054', 'sub_0067', 'sub_0069', 'sub_0078', 'sub_0084', 'sub_0086', 'sub_0139', 'sub_0143', 'sub_0173', 'sub_0234']"
   ]
  },
  {
   "cell_type": "markdown",
   "metadata": {},
   "source": [
    "Merge dataframes"
   ]
  },
  {
   "cell_type": "code",
   "execution_count": 5,
   "metadata": {},
   "outputs": [],
   "source": [
    "merged_df = pd.DataFrame([])  # Concatenated raw data\n",
    "for sub in subjects:\n",
    "    df = pd.read_csv(os.path.join(datapath, sub, 'filtered.txt'))\n",
    "    df[\"Subject\"] = sub\n",
    "    df = df.rename(columns={'Estimation': 'Descision', 'EstimationRT': 'DecisionRT'})\n",
    "    merged_df = merged_df.append(df, ignore_index=True)\n",
    "\n",
    "# Remove particpants\n",
    "for sub_rm in remove:\n",
    "    merged_df = merged_df[merged_df.Subject != sub_rm]\n",
    "\n",
    "# Save data frame\n",
    "merged_df.to_csv(\n",
    "    os.path.join(\n",
    "        outputpath, 'Del1_merged.txt'),\n",
    "    index=False)"
   ]
  },
  {
   "cell_type": "code",
   "execution_count": 6,
   "metadata": {},
   "outputs": [
    {
     "data": {
      "text/plain": [
       "206"
      ]
     },
     "execution_count": 6,
     "metadata": {},
     "output_type": "execute_result"
    }
   ],
   "source": [
    "merged_df.Subject.nunique()"
   ]
  },
  {
   "cell_type": "markdown",
   "metadata": {},
   "source": [
    "# Del2"
   ]
  },
  {
   "cell_type": "markdown",
   "metadata": {},
   "source": [
    "This script will import raw data from AUX and build a local database containing only essential files for further preprocessing. You can select where to store these file by changing `localPath`."
   ]
  },
  {
   "cell_type": "code",
   "execution_count": 7,
   "metadata": {},
   "outputs": [],
   "source": [
    "datapath = os.path.join(\n",
    "    os.path.abspath(os.path.join(os.getcwd(), os.pardir)),\n",
    "    'data', 'raw', 'HRD2')\n",
    "\n",
    "outputpath = os.path.join(\n",
    "    os.path.abspath(os.path.join(os.getcwd(), os.pardir)),\n",
    "    'data')\n",
    "session = 'Del2'\n",
    "subjects = os.listdir(datapath)"
   ]
  },
  {
   "cell_type": "code",
   "execution_count": 8,
   "metadata": {},
   "outputs": [],
   "source": [
    "remove = ['sub_0139']"
   ]
  },
  {
   "cell_type": "markdown",
   "metadata": {},
   "source": [
    "Merge dataframes"
   ]
  },
  {
   "cell_type": "code",
   "execution_count": 9,
   "metadata": {},
   "outputs": [],
   "source": [
    "merged_df = pd.DataFrame([])  # Concatenated raw data\n",
    "for sub in subjects:\n",
    "    df = pd.read_csv(os.path.join(datapath, sub, 'filtered.txt'))\n",
    "    df[\"Subject\"] = sub\n",
    "    merged_df = merged_df.append(df, ignore_index=True)\n",
    "\n",
    "# Remove particpants\n",
    "for sub_rm in remove:\n",
    "    merged_df = merged_df[merged_df.Subject != sub_rm]\n",
    "\n",
    "# Save data frame\n",
    "merged_df.to_csv(\n",
    "    os.path.join(\n",
    "        outputpath, 'Del2_merged.txt'),\n",
    "    index=False)"
   ]
  },
  {
   "cell_type": "code",
   "execution_count": 10,
   "metadata": {},
   "outputs": [
    {
     "data": {
      "text/plain": [
       "191"
      ]
     },
     "execution_count": 10,
     "metadata": {},
     "output_type": "execute_result"
    }
   ],
   "source": [
    "merged_df.Subject.nunique()"
   ]
  },
  {
   "cell_type": "markdown",
   "metadata": {},
   "source": [
    "# Summary dataframe"
   ]
  },
  {
   "cell_type": "markdown",
   "metadata": {},
   "source": [
    "Extract summary statistics"
   ]
  },
  {
   "cell_type": "code",
   "execution_count": 11,
   "metadata": {},
   "outputs": [],
   "source": [
    "def reversals(df):\n",
    "    d = np.diff(df.Alpha.to_numpy())\n",
    "    reversals = d[:-1] != d[1:]\n",
    "    return np.median(df.Alpha.to_numpy()[1:-1][reversals])"
   ]
  },
  {
   "cell_type": "code",
   "execution_count": 12,
   "metadata": {},
   "outputs": [
    {
     "name": "stderr",
     "output_type": "stream",
     "text": [
      "C:\\ProgramData\\Anaconda3\\lib\\site-packages\\numpy\\core\\fromnumeric.py:3373: RuntimeWarning: Mean of empty slice.\n",
      "  out=out, **kwargs)\n",
      "C:\\ProgramData\\Anaconda3\\lib\\site-packages\\numpy\\core\\_methods.py:170: RuntimeWarning: invalid value encountered in double_scalars\n",
      "  ret = ret.dtype.type(ret / rcount)\n"
     ]
    }
   ],
   "source": [
    "behavior_df = pd.DataFrame([])\n",
    "\n",
    "for session in ['Del1', 'Del2']:\n",
    "\n",
    "    group_df = pd.read_csv(\n",
    "        os.path.join(outputpath, f'{session}_merged.txt'))\n",
    " \n",
    "    for sub in group_df['Subject'].unique():\n",
    "\n",
    "        taskDuration = (\n",
    "            group_df.loc[group_df.Subject == sub, \"StartListening\"].to_numpy()[-1] -\n",
    "                group_df.loc[group_df.Subject == sub, \"StartListening\"].to_numpy()[0]\n",
    "            ) / 60\n",
    "\n",
    "        for modality in [\"Intero\", \"Extero\"]:\n",
    "            \n",
    "            threshold, slope, decisionRT, confidenceRT, accuracy, confidence,\\\n",
    "                threshold_updown = None, None, None, None, None, None, None\n",
    "            \n",
    "            this_df = group_df[(group_df.Subject == sub) & (group_df.Modality == modality)]\n",
    "\n",
    "            threshold, slope = (\n",
    "                this_df[~this_df.EstimatedThreshold.isnull()].EstimatedThreshold.iloc[-1],\n",
    "                this_df[~this_df.EstimatedSlope.isnull()].EstimatedSlope.iloc[-1],\n",
    "            )\n",
    "            decisionRT, confidenceRT = (\n",
    "                this_df[\"DecisionRT\"].median(),\n",
    "                this_df.ConfidenceRT.median(),\n",
    "            )\n",
    "            accuracy, confidence = (\n",
    "                this_df[\"ResponseCorrect\"].mean() * 100,\n",
    "                this_df[\"Confidence\"].mean(),\n",
    "            )\n",
    "\n",
    "            # Threshold from up/down staircase\n",
    "            threshold_updown = np.mean([\n",
    "                reversals(this_df[this_df.StairCond=='low']),\n",
    "                reversals(this_df[this_df.StairCond=='high'])\n",
    "            ])\n",
    "\n",
    "            # Ratio of staircase corruption\n",
    "            ratio = ((this_df.Alpha - this_df.EstimatedThreshold).loc[-40:] > 0).mean()\n",
    "            corruption_ratio = np.abs(ratio-0.5)*2\n",
    "\n",
    "            behavior_df = behavior_df.append(\n",
    "                {\n",
    "                    \"Subject\": sub,\n",
    "                    \"Session\": session,\n",
    "                    \"Modality\": modality,\n",
    "                    \"Accuracy\": accuracy,\n",
    "                    \"Confidence\": confidence,\n",
    "                    \"Threshold\": threshold,\n",
    "                    \"Threshold_UpDown\": threshold_updown,\n",
    "                    \"Slope\": slope,\n",
    "                    \"TaskDuration\": taskDuration,\n",
    "                    \"DecisionRT\": decisionRT,\n",
    "                    \"ConfidenceRT\": confidenceRT,\n",
    "                    \"Corruption\": corruption_ratio,\n",
    "                },\n",
    "                ignore_index=True,\n",
    "            )\n",
    "\n",
    "# Save data frame\n",
    "behavior_df.to_csv(\n",
    "    os.path.join(\n",
    "        outputpath, 'behavior.txt'),\n",
    "    index=False)"
   ]
  },
  {
   "cell_type": "markdown",
   "metadata": {},
   "source": [
    "## Task descriptive stats"
   ]
  },
  {
   "cell_type": "code",
   "execution_count": 13,
   "metadata": {},
   "outputs": [],
   "source": [
    "behavior_df = pd.read_csv(os.path.join(outputpath, 'behavior.txt'))"
   ]
  },
  {
   "cell_type": "code",
   "execution_count": 14,
   "metadata": {},
   "outputs": [
    {
     "name": "stdout",
     "output_type": "stream",
     "text": [
      "Number of participants: 218\n",
      "Del 1: 206\n",
      "Del 1: 191\n"
     ]
    }
   ],
   "source": [
    "print(f'Number of participants: {len(behavior_df.Subject.unique())}')\n",
    "del1 = len(behavior_df[behavior_df.Session=='Del1'].Subject.unique())\n",
    "print(f'Del 1: {del1}')\n",
    "del2 = len(behavior_df[behavior_df.Session=='Del2'].Subject.unique())\n",
    "print(f'Del 1: {del2}')"
   ]
  },
  {
   "cell_type": "code",
   "execution_count": 15,
   "metadata": {},
   "outputs": [
    {
     "data": {
      "image/png": "[encoded data removed]",
      "text/plain": [
       "<Figure size 576x360 with 1 Axes>"
      ]
     },
     "metadata": {
      "needs_background": "light"
     },
     "output_type": "display_data"
    }
   ],
   "source": [
    "sns.set_context('talk')\n",
    "plt.figure(figsize=(8, 5))\n",
    "sns.histplot(data=behavior_df[behavior_df.Modality=='Intero'],\n",
    "             x='TaskDuration', hue='Session')\n",
    "plt.xlabel('Time (min)')\n",
    "plt.ylabel('HRD')\n",
    "sns.despine()"
   ]
  },
  {
   "cell_type": "code",
   "execution_count": 16,
   "metadata": {},
   "outputs": [
    {
     "name": "stdout",
     "output_type": "stream",
     "text": [
      "Session: Del1 - Task mean time: 31.33 min\n",
      "Session: Del1 - Task std time: 3.32 min\n",
      "Session: Del1 - Task max time: 42.46 min\n",
      "Session: Del1 - Task min time: 24.27 min\n",
      "Session: Del2 - Task mean time: 22.67 min\n",
      "Session: Del2 - Task std time: 2.44 min\n",
      "Session: Del2 - Task max time: 33.81 min\n",
      "Session: Del2 - Task min time: 18.81 min\n"
     ]
    }
   ],
   "source": [
    "for session in ['Del1', 'Del2']:\n",
    "    print(f'Session: {session} - Task mean time: {round(behavior_df[behavior_df.Session == session].TaskDuration.mean(), 2)} min')\n",
    "    print(f'Session: {session} - Task std time: {round(behavior_df[behavior_df.Session == session].TaskDuration.std(), 2)} min')\n",
    "    print(f'Session: {session} - Task max time: {round(behavior_df[behavior_df.Session == session].TaskDuration.max(), 2)} min')\n",
    "    print(f'Session: {session} - Task min time: {round(behavior_df[behavior_df.Session == session].TaskDuration.min(), 2)} min')"
   ]
  },
  {
   "cell_type": "markdown",
   "metadata": {},
   "source": [
    "## Psi convergence index"
   ]
  },
  {
   "cell_type": "code",
   "execution_count": 17,
   "metadata": {},
   "outputs": [
    {
     "data": {
      "image/png": "[encoded data removed]",
      "text/plain": [
       "<Figure size 288x288 with 1 Axes>"
      ]
     },
     "metadata": {
      "needs_background": "light"
     },
     "output_type": "display_data"
    }
   ],
   "source": [
    "sns.set_context('notebook')\n",
    "fig, ax = plt.subplots(1, 1, figsize=(4, 4), sharey='row')\n",
    "\n",
    "sns.stripplot(data=behavior_df, x='Session', y='Corruption', hue='Modality', dodge=1, edgecolors='k', palette=['#c44e52', '#4c72b0'], linewidths=1, alpha=0.3, ax=ax)\n",
    "sns.barplot(data=behavior_df, x='Session', y='Corruption', hue='Modality', alpha=0.2, palette=['#c44e52', '#4c72b0'], ax=ax)\n",
    "\n",
    "plt.xticks([0, 1], ['Session 1', 'Session 2'], size=12)\n",
    "plt.xlabel('')\n",
    "ax.minorticks_on()\n",
    "ax.set_axisbelow(True)\n",
    "ax.grid(which='major', axis='y',linestyle='--')\n",
    "ax.tick_params(axis='x', which='minor', bottom=False)\n",
    "ax.set_ylabel('Index of incomplete convergence', size=15)\n",
    "ax.set_ylim([0, 1])\n",
    "plt.tight_layout()\n",
    "sns.despine()\n",
    "plt.savefig(os.path.abspath(os.path.join(os.getcwd(), os.pardir)) + f'/figures/SupplementaryMaterial2Stripplot.svg', dpi=300)"
   ]
  },
  {
   "cell_type": "code",
   "execution_count": 29,
   "metadata": {},
   "outputs": [
    {
     "name": "stdout",
     "output_type": "stream",
     "text": [
      "Session 1: Intero: 63 and Extero: 41 staircase with a high incomplete convergence index.\n"
     ]
    }
   ],
   "source": [
    "intero = (behavior_df[(behavior_df.Session=='Del1') & (behavior_df.Modality=='Intero')].Corruption > 0.5).sum()\n",
    "extero = (behavior_df[(behavior_df.Session=='Del1') & (behavior_df.Modality=='Extero')].Corruption > 0.5).sum()\n",
    "print(f'Session 1: Intero: {intero} and Extero: {extero} staircases with a high incomplete convergence index.')"
   ]
  },
  {
   "cell_type": "code",
   "execution_count": 30,
   "metadata": {},
   "outputs": [
    {
     "name": "stdout",
     "output_type": "stream",
     "text": [
      "Session 2: Intero: 3 and Extero: 0 staircases with a high incomplete convergence index.\n"
     ]
    }
   ],
   "source": [
    "intero = (behavior_df[(behavior_df.Session=='Del2') & (behavior_df.Modality=='Intero')].Corruption > 0.5).sum()\n",
    "extero = (behavior_df[(behavior_df.Session=='Del2') & (behavior_df.Modality=='Extero')].Corruption > 0.5).sum()\n",
    "print(f'Session 2: Intero: {intero} and Extero: {extero} staircases with a high incomplete convergence index.')"
   ]
  },
  {
   "cell_type": "markdown",
   "metadata": {},
   "source": [
    "# Demographics"
   ]
  },
  {
   "cell_type": "code",
   "execution_count": 18,
   "metadata": {},
   "outputs": [],
   "source": [
    "dates_df = pd.read_csv(os.path.join(outputpath, 'dates.csv'), sep=';')\n",
    "dates_df['Subject'] = [f'sub_{str(id).zfill(4)}' for id in dates_df['record_id']]\n",
    "dates_df = pd.merge(behavior_df, dates_df, on=['Subject'])"
   ]
  },
  {
   "cell_type": "code",
   "execution_count": 19,
   "metadata": {},
   "outputs": [
    {
     "name": "stdout",
     "output_type": "stream",
     "text": [
      "Average delay: 46.79032258064516 - Min delays 10.0 - Max delays 97.0 - STD 23.87521870064204\n"
     ]
    }
   ],
   "source": [
    "days_avg = dates_df[(dates_df.Session=='Del2') & (dates_df.Modality=='Intero')]['Diff in days'].mean()\n",
    "days_std = dates_df[(dates_df.Session=='Del2') & (dates_df.Modality=='Intero')]['Diff in days'].std()\n",
    "days_min = dates_df[(dates_df.Session=='Del2') & (dates_df.Modality=='Intero')]['Diff in days'].min()\n",
    "days_max = dates_df[(dates_df.Session=='Del2') & (dates_df.Modality=='Intero')]['Diff in days'].max()\n",
    "print(f'Average delay: {days_avg} - Min delays {days_min} - Max delays {days_max} - STD {days_std}')"
   ]
  },
  {
   "cell_type": "code",
   "execution_count": 20,
   "metadata": {},
   "outputs": [],
   "source": [
    "demographics_df = pd.read_csv(os.path.join(outputpath, 'demographics.csv'), sep=',')"
   ]
  },
  {
   "cell_type": "code",
   "execution_count": 21,
   "metadata": {},
   "outputs": [],
   "source": [
    "demographics_df = pd.read_csv(os.path.join(outputpath, 'demographics.csv'), sep=',')\n",
    "demographics_df['Subject'] = [f'sub_{str(id).zfill(4)}' for id in demographics_df['record_id']]\n",
    "demographics_df = pd.merge(demographics_df, behavior_df, on=['Subject'], how='right')"
   ]
  },
  {
   "cell_type": "code",
   "execution_count": 22,
   "metadata": {},
   "outputs": [
    {
     "name": "stdout",
     "output_type": "stream",
     "text": [
      "Average age: 24.89908256880734 - Age std 5.3027163791550525 - Age min 18 - Age max 56\n"
     ]
    }
   ],
   "source": [
    "age_mean = demographics_df.groupby(['Subject']).mean().age.mean()\n",
    "age_std = demographics_df.groupby(['Subject']).mean().age.std()\n",
    "age_max = demographics_df.groupby(['Subject']).mean().age.max()\n",
    "age_min = demographics_df.groupby(['Subject']).mean().age.min()\n",
    "\n",
    "print(f'Average age: {age_mean} - Age std {age_std} - Age min {age_min} - Age max {age_max}')"
   ]
  },
  {
   "cell_type": "code",
   "execution_count": 23,
   "metadata": {},
   "outputs": [
    {
     "name": "stdout",
     "output_type": "stream",
     "text": [
      " 218 participants - 126 female, 91 males, 1 other\n"
     ]
    }
   ],
   "source": [
    "print(f\" {len(demographics_df.groupby(['Subject']).mean())} participants - {(demographics_df.groupby(['Subject']).mean()['gender'] == 1).sum()} female, {(demographics_df.groupby(['Subject']).mean()['gender'] == 2).sum()} males, {(demographics_df.groupby(['Subject']).mean()['gender'] == 3).sum()} other\")"
   ]
  },
  {
   "cell_type": "code",
   "execution_count": null,
   "metadata": {},
   "outputs": [],
   "source": []
  }
 ],
 "metadata": {
  "kernelspec": {
   "display_name": "Python 3",
   "language": "python",
   "name": "python3"
  },
  "language_info": {
   "codemirror_mode": {
    "name": "ipython",
    "version": 3
   },
   "file_extension": ".py",
   "mimetype": "text/x-python",
   "name": "python",
   "nbconvert_exporter": "python",
   "pygments_lexer": "ipython3",
   "version": "3.7.9"
  }
 },
 "nbformat": 4,
 "nbformat_minor": 4
}
