{
 "cells": [
  {
   "cell_type": "markdown",
   "metadata": {},
   "source": [
    "Authors: Nicolas Legrand <nicolas.legrand@cfin.au.dk>"
   ]
  },
  {
   "cell_type": "code",
   "execution_count": 1,
   "metadata": {},
   "outputs": [],
   "source": [
    "import os\n",
    "import pandas as pd\n",
    "import seaborn as sns\n",
    "import matplotlib.pyplot as plt\n",
    "from importFiles import import_from_aux\n",
    "from summary import groupLevel"
   ]
  },
  {
   "cell_type": "markdown",
   "metadata": {},
   "source": [
    "This script will import raw data from AUX and build a local database containing only essential files for further preprocessing. You can select where to store these file by changing `localPath`."
   ]
  },
  {
   "cell_type": "code",
   "execution_count": 2,
   "metadata": {
    "collapsed": true,
    "jupyter": {
     "outputs_hidden": true
    }
   },
   "outputs": [
    {
     "ename": "FileNotFoundError",
     "evalue": "[WinError 3] The system cannot find the path specified: 'Z:/MINDLAB2019_Visceral-Mind/1_VMP_aux/'",
     "output_type": "error",
     "traceback": [
      "\u001b[1;31m---------------------------------------------------------------------------\u001b[0m",
      "\u001b[1;31mFileNotFoundError\u001b[0m                         Traceback (most recent call last)",
      "\u001b[1;32m<ipython-input-2-faeeb891c808>\u001b[0m in \u001b[0;36m<module>\u001b[1;34m\u001b[0m\n\u001b[0;32m      1\u001b[0m \u001b[0mserverPath\u001b[0m \u001b[1;33m=\u001b[0m \u001b[1;34m'Z:/MINDLAB2019_Visceral-Mind/1_VMP_aux/'\u001b[0m\u001b[1;33m\u001b[0m\u001b[1;33m\u001b[0m\u001b[0m\n\u001b[0;32m      2\u001b[0m \u001b[0mlocalPath\u001b[0m \u001b[1;33m=\u001b[0m \u001b[1;34m'C:/Users/au646069/ECG/1_VPN_aux/'\u001b[0m\u001b[1;33m\u001b[0m\u001b[1;33m\u001b[0m\u001b[0m\n\u001b[1;32m----> 3\u001b[1;33m \u001b[0mimport_from_aux\u001b[0m\u001b[1;33m(\u001b[0m\u001b[0mlocalPath\u001b[0m\u001b[1;33m,\u001b[0m \u001b[0mserverPath\u001b[0m\u001b[1;33m)\u001b[0m\u001b[1;33m\u001b[0m\u001b[1;33m\u001b[0m\u001b[0m\n\u001b[0m",
      "\u001b[1;32m~\\github\\CardioceptionPaper\\code\\importFiles.py\u001b[0m in \u001b[0;36mimport_from_aux\u001b[1;34m(localPath, serverPath)\u001b[0m\n\u001b[0;32m      7\u001b[0m     \u001b[1;34m\"\"\"Import raw files from AUX\"\"\"\u001b[0m\u001b[1;33m\u001b[0m\u001b[1;33m\u001b[0m\u001b[0m\n\u001b[0;32m      8\u001b[0m \u001b[1;33m\u001b[0m\u001b[0m\n\u001b[1;32m----> 9\u001b[1;33m     \u001b[0msubList\u001b[0m \u001b[1;33m=\u001b[0m \u001b[0mos\u001b[0m\u001b[1;33m.\u001b[0m\u001b[0mlistdir\u001b[0m\u001b[1;33m(\u001b[0m\u001b[0mserverPath\u001b[0m\u001b[1;33m)\u001b[0m\u001b[1;33m\u001b[0m\u001b[1;33m\u001b[0m\u001b[0m\n\u001b[0m\u001b[0;32m     10\u001b[0m     \u001b[1;31m# HRD\u001b[0m\u001b[1;33m\u001b[0m\u001b[1;33m\u001b[0m\u001b[1;33m\u001b[0m\u001b[0m\n\u001b[0;32m     11\u001b[0m     \u001b[1;32mfor\u001b[0m \u001b[0msub\u001b[0m \u001b[1;32min\u001b[0m \u001b[0msubList\u001b[0m\u001b[1;33m:\u001b[0m\u001b[1;33m\u001b[0m\u001b[1;33m\u001b[0m\u001b[0m\n",
      "\u001b[1;31mFileNotFoundError\u001b[0m: [WinError 3] The system cannot find the path specified: 'Z:/MINDLAB2019_Visceral-Mind/1_VMP_aux/'"
     ]
    }
   ],
   "source": [
    "%%capture\n",
    "serverPath = 'Z:/MINDLAB2019_Visceral-Mind/1_VMP_aux/'\n",
    "localPath = 'C:/Users/au646069/ECG/1_VPN_aux/'\n",
    "import_from_aux(localPath, serverPath)"
   ]
  },
  {
   "cell_type": "code",
   "execution_count": 2,
   "metadata": {},
   "outputs": [],
   "source": [
    "path = os.path.abspath(os.path.join(os.getcwd(), os.pardir))\n",
    "datapath = 'C:/Users/au646069/ECG/1_VPN_aux/'\n",
    "subList = os.listdir(datapath)"
   ]
  },
  {
   "cell_type": "markdown",
   "metadata": {},
   "source": [
    "### Data quality\n",
    "\n",
    "**HRD**\n",
    "* Subject 44, 45, 46, 74, 141, 191, 249: data missing\n",
    "\n",
    "*Logs:*\n",
    "* Subject 27: rename file (28->27)\n",
    "* Subject 81: incorrect file name (081)\n",
    "* Subject 191, 223: data missing, but should be present\n",
    "\n",
    "*To remove:*\n",
    "* Subject 36: invalid responses -> remove\n",
    "* Subject 54: noisy PPG -> remove\n",
    "* Subject 67: invalid responses\n",
    "* Subject 84: bad confidence ratings -> remove\n",
    "\n",
    "**HBC**\n",
    "* Subject 160, 177, 202, 223: data missing\n",
    "\n",
    "*Logs:*\n",
    "* Subject 187: data missing but should be present.\n",
    "* Subject 21, 31, 44, 45, 49, 50, 62, 223: missing data?\n",
    "* Subject 25, 41: incomplete (crash?)\n",
    "\n",
    "**HRD2**\n",
    "* Subject 20, 21, 29, 30, 36, 40, 41, 43, 48, 51, 54, 55, 62, 69, 75, 77, 88, 91, 105, 110, 111, 129, 155, 158, 182, 199, 205, 221, 227, 239, 256: data missing\n",
    "\n",
    "*Logs:*\n",
    "* Subject 123: data missing but should be present."
   ]
  },
  {
   "cell_type": "code",
   "execution_count": 3,
   "metadata": {},
   "outputs": [],
   "source": [
    "group_df, merged_df = groupLevel(datapath=datapath, subjects=subList, verbose=False)"
   ]
  },
  {
   "cell_type": "markdown",
   "metadata": {},
   "source": [
    "Drop bad data"
   ]
  },
  {
   "cell_type": "code",
   "execution_count": 5,
   "metadata": {},
   "outputs": [],
   "source": [
    "remove = ['sub_0036', 'sub_0054', 'sub_0067', 'sub_0084']\n",
    "for sub_rm in remove:\n",
    "    group_df = group_df[group_df.Subject != sub_rm]\n",
    "    merged_df = merged_df[merged_df.Subject != sub_rm]"
   ]
  },
  {
   "cell_type": "code",
   "execution_count": 6,
   "metadata": {},
   "outputs": [],
   "source": [
    "group_df.to_csv(path + '/data/behavior.txt')\n",
    "merged_df.to_csv(path + '/data/merged.txt')"
   ]
  },
  {
   "cell_type": "markdown",
   "metadata": {},
   "source": [
    "## Task descriptive stats"
   ]
  },
  {
   "cell_type": "code",
   "execution_count": 7,
   "metadata": {},
   "outputs": [],
   "source": [
    "group_df = pd.read_csv(path + '/data/behavior.txt')"
   ]
  },
  {
   "cell_type": "code",
   "execution_count": 8,
   "metadata": {},
   "outputs": [
    {
     "name": "stdout",
     "output_type": "stream",
     "text": [
      "Number of participants: 221\n",
      "Del 1: 216\n",
      "Del 2: 154\n"
     ]
    }
   ],
   "source": [
    "print(f'Number of participants: {len(group_df.Subject.unique())}')\n",
    "del1 = len(group_df[group_df.Session=='Del1'].Subject.unique())\n",
    "del2 = len(group_df[group_df.Session=='Del2'].Subject.unique())\n",
    "print(f'Del 1: {del1}')\n",
    "print(f'Del 2: {del2}')"
   ]
  },
  {
   "cell_type": "code",
   "execution_count": 9,
   "metadata": {},
   "outputs": [
    {
     "data": {
      "image/png": "[encoded data removed]",
      "text/plain": [
       "<Figure size 576x360 with 1 Axes>"
      ]
     },
     "metadata": {
      "needs_background": "light"
     },
     "output_type": "display_data"
    }
   ],
   "source": [
    "sns.set_context('talk')\n",
    "plt.figure(figsize=(8, 5))\n",
    "sns.histplot(data=group_df[group_df.Modality=='Intero'],\n",
    "             x='TaskDuration', hue='Session')\n",
    "plt.xlabel('Time (min)')\n",
    "plt.ylabel('HRD')\n",
    "sns.despine()"
   ]
  },
  {
   "cell_type": "code",
   "execution_count": null,
   "metadata": {},
   "outputs": [],
   "source": []
  }
 ],
 "metadata": {
  "kernelspec": {
   "display_name": "Python 3",
   "language": "python",
   "name": "python3"
  },
  "language_info": {
   "codemirror_mode": {
    "name": "ipython",
    "version": 3
   },
   "file_extension": ".py",
   "mimetype": "text/x-python",
   "name": "python",
   "nbconvert_exporter": "python",
   "pygments_lexer": "ipython3",
   "version": "3.7.6"
  }
 },
 "nbformat": 4,
 "nbformat_minor": 4
}
