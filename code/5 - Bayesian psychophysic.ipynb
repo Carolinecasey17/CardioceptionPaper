{
 "cells": [
  {
   "cell_type": "code",
   "execution_count": 2,
   "metadata": {},
   "outputs": [],
   "source": [
    "import os\n",
    "import pandas as pd\n",
    "import matplotlib.pyplot as plt\n",
    "import seaborn as sns\n",
    "import numpy as np\n",
    "import pingouin as pg\n",
    "from systole.detection import oxi_peaks, rr_artefacts\n",
    "\n",
    "sns.set_context('talk')"
   ]
  },
  {
   "cell_type": "markdown",
   "metadata": {},
   "source": [
    "Import summary statistics from Bayesian psychometric fits."
   ]
  },
  {
   "cell_type": "code",
   "execution_count": 5,
   "metadata": {},
   "outputs": [],
   "source": [
    "path = os.path.abspath(os.path.join(os.getcwd(), os.pardir))\n",
    "bayesPsycho_df = pd.read_csv(path + '/data/bayesianPsychophysic.txt')"
   ]
  },
  {
   "cell_type": "code",
   "execution_count": 10,
   "metadata": {},
   "outputs": [
    {
     "data": {
      "text/html": [
       "<div>\n",
       "<style scoped>\n",
       "    .dataframe tbody tr th:only-of-type {\n",
       "        vertical-align: middle;\n",
       "    }\n",
       "\n",
       "    .dataframe tbody tr th {\n",
       "        vertical-align: top;\n",
       "    }\n",
       "\n",
       "    .dataframe thead th {\n",
       "        text-align: right;\n",
       "    }\n",
       "</style>\n",
       "<table border=\"1\" class=\"dataframe\">\n",
       "  <thead>\n",
       "    <tr style=\"text-align: right;\">\n",
       "      <th></th>\n",
       "      <th>Unnamed: 0</th>\n",
       "      <th>Subject</th>\n",
       "      <th>Condition</th>\n",
       "      <th>Threshold</th>\n",
       "      <th>Slope</th>\n",
       "      <th>BayesianThreshold</th>\n",
       "      <th>BayesianSlope</th>\n",
       "    </tr>\n",
       "  </thead>\n",
       "  <tbody>\n",
       "    <tr>\n",
       "      <th>21</th>\n",
       "      <td>21</td>\n",
       "      <td>sub_0030</td>\n",
       "      <td>Extero</td>\n",
       "      <td>-10.448430</td>\n",
       "      <td>13.335163</td>\n",
       "      <td>-4.495</td>\n",
       "      <td>8.359</td>\n",
       "    </tr>\n",
       "    <tr>\n",
       "      <th>86</th>\n",
       "      <td>86</td>\n",
       "      <td>sub_0092</td>\n",
       "      <td>Extero</td>\n",
       "      <td>-10.952678</td>\n",
       "      <td>13.499537</td>\n",
       "      <td>-1.998</td>\n",
       "      <td>9.539</td>\n",
       "    </tr>\n",
       "    <tr>\n",
       "      <th>296</th>\n",
       "      <td>296</td>\n",
       "      <td>sub_0206</td>\n",
       "      <td>Extero</td>\n",
       "      <td>-10.959491</td>\n",
       "      <td>12.014786</td>\n",
       "      <td>-4.133</td>\n",
       "      <td>6.171</td>\n",
       "    </tr>\n",
       "    <tr>\n",
       "      <th>426</th>\n",
       "      <td>426</td>\n",
       "      <td>sub_0067</td>\n",
       "      <td>Extero</td>\n",
       "      <td>-22.736688</td>\n",
       "      <td>18.843883</td>\n",
       "      <td>-16.393</td>\n",
       "      <td>19.682</td>\n",
       "    </tr>\n",
       "  </tbody>\n",
       "</table>\n",
       "</div>"
      ],
      "text/plain": [
       "     Unnamed: 0   Subject Condition  Threshold      Slope  BayesianThreshold  \\\n",
       "21           21  sub_0030    Extero -10.448430  13.335163             -4.495   \n",
       "86           86  sub_0092    Extero -10.952678  13.499537             -1.998   \n",
       "296         296  sub_0206    Extero -10.959491  12.014786             -4.133   \n",
       "426         426  sub_0067    Extero -22.736688  18.843883            -16.393   \n",
       "\n",
       "     BayesianSlope  \n",
       "21           8.359  \n",
       "86           9.539  \n",
       "296          6.171  \n",
       "426         19.682  "
      ]
     },
     "execution_count": 10,
     "metadata": {},
     "output_type": "execute_result"
    }
   ],
   "source": [
    "bayesPsycho_df[(bayesPsycho_df.Condition=='Extero') & (bayesPsycho_df.Threshold < -10)]"
   ]
  },
  {
   "cell_type": "markdown",
   "metadata": {},
   "source": [
    "# Correlation between psi and Bayesian fit"
   ]
  },
  {
   "cell_type": "markdown",
   "metadata": {},
   "source": [
    "## Threshold"
   ]
  },
  {
   "cell_type": "code",
   "execution_count": 11,
   "metadata": {},
   "outputs": [
    {
     "data": {
      "image/png": "[encoded data removed]",
      "text/plain": [
       "<Figure size 432x432 with 3 Axes>"
      ]
     },
     "metadata": {
      "needs_background": "light"
     },
     "output_type": "display_data"
    }
   ],
   "source": [
    "g = sns.jointplot(data=bayesPsycho_df[bayesPsycho_df.Condition=='Extero'],\n",
    "                  x='Threshold', y='BayesianThreshold', xlim=(-40.5, 40.5),\n",
    "                  ylim=(-40.5, 40.5), color='#4c72b0')\n",
    "x0, x1 = g.ax_joint.get_xlim()\n",
    "y0, y1 = g.ax_joint.get_ylim()\n",
    "lims = [max(x0, y0), min(x1, y1)]\n",
    "g.ax_joint.plot(lims, lims, ':k')    \n",
    "plt.savefig(path + '/figures/thresholdExtero.svg', dpi=300)"
   ]
  },
  {
   "cell_type": "code",
   "execution_count": 20,
   "metadata": {},
   "outputs": [
    {
     "data": {
      "text/html": [
       "<div>\n",
       "<style scoped>\n",
       "    .dataframe tbody tr th:only-of-type {\n",
       "        vertical-align: middle;\n",
       "    }\n",
       "\n",
       "    .dataframe tbody tr th {\n",
       "        vertical-align: top;\n",
       "    }\n",
       "\n",
       "    .dataframe thead th {\n",
       "        text-align: right;\n",
       "    }\n",
       "</style>\n",
       "<table border=\"1\" class=\"dataframe\">\n",
       "  <thead>\n",
       "    <tr style=\"text-align: right;\">\n",
       "      <th></th>\n",
       "      <th>n</th>\n",
       "      <th>r</th>\n",
       "      <th>CI95%</th>\n",
       "      <th>r2</th>\n",
       "      <th>adj_r2</th>\n",
       "      <th>p-val</th>\n",
       "      <th>power</th>\n",
       "    </tr>\n",
       "  </thead>\n",
       "  <tbody>\n",
       "    <tr>\n",
       "      <th>spearman</th>\n",
       "      <td>216</td>\n",
       "      <td>0.675205</td>\n",
       "      <td>[0.6, 0.74]</td>\n",
       "      <td>0.455902</td>\n",
       "      <td>0.450793</td>\n",
       "      <td>4.186557e-30</td>\n",
       "      <td>1.0</td>\n",
       "    </tr>\n",
       "  </tbody>\n",
       "</table>\n",
       "</div>"
      ],
      "text/plain": [
       "            n         r        CI95%        r2    adj_r2         p-val  power\n",
       "spearman  216  0.675205  [0.6, 0.74]  0.455902  0.450793  4.186557e-30    1.0"
      ]
     },
     "execution_count": 20,
     "metadata": {},
     "output_type": "execute_result"
    }
   ],
   "source": [
    "pg.corr(x=group_df[bayesPsycho_df.Condition=='Extero'].Threshold,\n",
    "        y=group_df[bayesPsycho_df.Condition=='Extero'].BayesianThreshold, method='spearman')"
   ]
  },
  {
   "cell_type": "code",
   "execution_count": 13,
   "metadata": {},
   "outputs": [
    {
     "data": {
      "image/png": "[encoded data removed]",
      "text/plain": [
       "<Figure size 432x432 with 3 Axes>"
      ]
     },
     "metadata": {
      "needs_background": "light"
     },
     "output_type": "display_data"
    }
   ],
   "source": [
    "g = sns.jointplot(data=bayesPsycho_df[bayesPsycho_df.Condition=='Intero'], x='Threshold',\n",
    "                  y='BayesianThreshold', xlim=(-40.5, 40.5), ylim=(-40.5, 40.5), color='#c44e52')\n",
    "x0, x1 = g.ax_joint.get_xlim()\n",
    "y0, y1 = g.ax_joint.get_ylim()\n",
    "lims = [max(x0, y0), min(x1, y1)]\n",
    "g.ax_joint.plot(lims, lims, ':k')\n",
    "plt.savefig(path + '/thresholdIntero.svg', dpi=300)"
   ]
  },
  {
   "cell_type": "code",
   "execution_count": 19,
   "metadata": {},
   "outputs": [
    {
     "data": {
      "text/html": [
       "<div>\n",
       "<style scoped>\n",
       "    .dataframe tbody tr th:only-of-type {\n",
       "        vertical-align: middle;\n",
       "    }\n",
       "\n",
       "    .dataframe tbody tr th {\n",
       "        vertical-align: top;\n",
       "    }\n",
       "\n",
       "    .dataframe thead th {\n",
       "        text-align: right;\n",
       "    }\n",
       "</style>\n",
       "<table border=\"1\" class=\"dataframe\">\n",
       "  <thead>\n",
       "    <tr style=\"text-align: right;\">\n",
       "      <th></th>\n",
       "      <th>n</th>\n",
       "      <th>r</th>\n",
       "      <th>CI95%</th>\n",
       "      <th>r2</th>\n",
       "      <th>adj_r2</th>\n",
       "      <th>p-val</th>\n",
       "      <th>power</th>\n",
       "    </tr>\n",
       "  </thead>\n",
       "  <tbody>\n",
       "    <tr>\n",
       "      <th>spearman</th>\n",
       "      <td>217</td>\n",
       "      <td>0.948988</td>\n",
       "      <td>[0.93, 0.96]</td>\n",
       "      <td>0.900577</td>\n",
       "      <td>0.899648</td>\n",
       "      <td>9.714394e-110</td>\n",
       "      <td>1.0</td>\n",
       "    </tr>\n",
       "  </tbody>\n",
       "</table>\n",
       "</div>"
      ],
      "text/plain": [
       "            n         r         CI95%        r2    adj_r2          p-val  \\\n",
       "spearman  217  0.948988  [0.93, 0.96]  0.900577  0.899648  9.714394e-110   \n",
       "\n",
       "          power  \n",
       "spearman    1.0  "
      ]
     },
     "execution_count": 19,
     "metadata": {},
     "output_type": "execute_result"
    }
   ],
   "source": [
    "pg.corr(x=group_df[bayesPsycho_df.Condition=='Intero'].Threshold,\n",
    "        y=group_df[bayesPsycho_df.Condition=='Intero'].BayesianThreshold, method='spearman')"
   ]
  },
  {
   "cell_type": "markdown",
   "metadata": {},
   "source": [
    "## Slope"
   ]
  },
  {
   "cell_type": "code",
   "execution_count": null,
   "metadata": {},
   "outputs": [],
   "source": []
  }
 ],
 "metadata": {
  "kernelspec": {
   "display_name": "Python 3",
   "language": "python",
   "name": "python3"
  },
  "language_info": {
   "codemirror_mode": {
    "name": "ipython",
    "version": 3
   },
   "file_extension": ".py",
   "mimetype": "text/x-python",
   "name": "python",
   "nbconvert_exporter": "python",
   "pygments_lexer": "ipython3",
   "version": "3.7.6"
  }
 },
 "nbformat": 4,
 "nbformat_minor": 4
}
